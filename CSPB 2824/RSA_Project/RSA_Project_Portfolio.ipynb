{
 "cells": [
  {
   "cell_type": "markdown",
   "metadata": {},
   "source": [
    "## RSA - The Project"
   ]
  },
  {
   "cell_type": "markdown",
   "metadata": {},
   "source": [
    "**The Prompt:**\n",
    "\n",
    "Your boss has been long intrigued by the RSA algorthim and has asked you to create a turorial RSA walk through and exploration project to help the boss and others in the company to understand the basic structures and mathematics of an RSA implementation.\n",
    "\n",
    "Your project will:\n",
    "1. Implement the algorithm for breaking codes with a given basic structure. \n",
    "2. Explain the steps in an \"Inverview Grading Style\" with Jupyter Lab Text blocks demostrating and explaining the function as you go. \n",
    "3. These demonstrations, explanations, and code comments must demonstrate that you understand the code and what it is doing. \n",
    "4. After the basic implementation you will rewrite the code completely with your own improvements, or copy the basic code package and add new features. This will be your custom feature.\n",
    "5. IMPORTANT - in the first implementation you will keep all instructions, given comments in the code, and use the variable names and set up as given. For your custom feature you may remove these and make the code \"your own.\" ALL CHANGE must be explained in text - why did you change/make improvements? We should be able to see how you adapted the orginal code.\n",
    "\n",
    "\n",
    "\n",
    "\n"
   ]
  },
  {
   "cell_type": "markdown",
   "metadata": {},
   "source": [
    "<hr />\n",
    "\n",
    "# Table of Contents\n",
    "\n",
    "\n",
    "## 1. Introduction to your RSA Project\n",
    "\n",
    "\n",
    "## 2. Code Package: FME \n",
    "        * Convert_Binary_String \n",
    "        * FME\n",
    "\n",
    "## 3. Code Package: Key Generation using Euclidean Algorithms\n",
    "        * Euclidean Algorithm\n",
    "        * Extended EA\n",
    "        * Find_Public_Key_e\n",
    "        * Find_Private_Key_d\n",
    "\n",
    "## 4. Code Package: En/Decode Your Messages\n",
    "        * Convert_Text\n",
    "        * Convert_Num\n",
    "        * Encode\n",
    "        * Decode\n",
    "\n",
    "\n",
    "## 5. Create a Code Demo\n",
    "\n",
    "## 6. Code Exchange Results\n",
    "\n",
    "## 7. Code Breaking: How To\n",
    "\n",
    "## 8. Code Breaking: Complete Examples\n",
    "\n",
    "## 9. Custom code feature"
   ]
  },
  {
   "cell_type": "markdown",
   "metadata": {},
   "source": [
    "## 1. Introduction to your RSA Project\n",
    "\n",
    "#### **Indtroduction**\n",
    "\n",
    "This file contains a walkthrough of the RSA Encryption Algorithm. RSA is an acronym for the names of the individuals that first publicly revealed the encryption scheme - Ron Rivest, Adi Shamir and Leonard Adleman of the Massachusetts Institute of Technology, in 1977. As described below, the overall effectiveness of this encryption scheme is based on the inability to factor large integers and the use of two different keys, a public key and a private key - in cryptology this is called Asymmetric Cryptography. \n",
    "\n",
    "Throughout this document, I will walk you through the steps of generating a public and private key as well as the process of encoding and decoding messages as well as the functions that make this possible. Additionally, I will walk you through how we can potentially break an encoded message using just a public key, but I will also explain how this is not always easily accomplished with today's computing power. I will also walk you through how I was ultimately able to complete this project and some of the issues I had along the way. Lastly, I provide a working version of the RSA Encryption Scheme allowing user interaction and an additional feature that imports the contents of a text file containing multiple encrypted messages.\n"
   ]
  },
  {
   "cell_type": "markdown",
   "metadata": {},
   "source": [
    "## 2. Code Package FME\n",
    "\n",
    "<span style=\"color:DarkRed\"> \n",
    "\n",
    "\n"
   ]
  },
  {
   "cell_type": "code",
   "execution_count": null,
   "metadata": {},
   "outputs": [],
   "source": [
    "import random"
   ]
  },
  {
   "cell_type": "code",
   "execution_count": null,
   "metadata": {},
   "outputs": [],
   "source": [
    "def Convert_Binary_String(_int):\n",
    "    \"\"\"\n",
    "    Here, you need to define a function that converts an integer to\n",
    "    a string of its binary expansion. You may or may not need this function. \n",
    "    \n",
    "    For example:\n",
    "    _int = 345\n",
    "    bits = 101011001\n",
    "    \"\"\"\n",
    "    #Note - This function was not used throughout - retained per instructions\n",
    "    \n",
    "    assert _int >= 0\n",
    "    binary_list = []\n",
    "    if _int != 0:    \n",
    "        while _int > 0:\n",
    "            k = _int % 2  #determine if current value of _int mod 2 is 0 or 1 in the binary exapnsion\n",
    "            binary_list.insert(0, str(k)) #Binary digits are calculated from least to most significant\n",
    "            _int = _int // 2 \n",
    "    else:\n",
    "        binary_list.insert(0, _int) \n",
    "\n",
    "    return \"\".join(binary_list) # string value returned of the binary equivalent"
   ]
  },
  {
   "cell_type": "code",
   "execution_count": null,
   "metadata": {},
   "outputs": [],
   "source": [
    "# Sriram’s Version:\n",
    "def FME(b, n, m):\n",
    "    \"\"\"\n",
    "    1. Using the fast modular exponentiation algorithm,\n",
    "    the below function should return b**n mod m.\n",
    "    As described on page 254. (however, you may input the exponent and \n",
    "    then convert it to a string - the book version imports the binary expansion)  \n",
    "    2. You should use the function defined above Convert_Binary_String() if using the book algorithm.\n",
    "    3. For this block you MUST use one of the 3 methods above.\n",
    "    4. Any method using bit-shifting or copied from the internet (even changing varibale names) will result in a 0.\n",
    "    \n",
    "    **If you are completely stuck, you may use pow() with a 10pt penalty.**\n",
    "\n",
    "    You may use the function you developed in your Mastery Workbook - but be sure it is your own\n",
    "    work, commented, etc. and change inputs as needed.\n",
    "    \"\"\"  \n",
    "    \n",
    "    \"\"\"\n",
    "    This function performs Sriram's FME Algorithm \n",
    "    provided to the class in the course lecture\n",
    "    videos\n",
    "\n",
    "    Parameter b: This parameter is the integer value to be used as the base\n",
    "    Parameter n: This parameter is the integer value to be used as the exponent\n",
    "    Parameter m: This parameter is the integer value to be used as the modulo value\n",
    "    \n",
    "    \"\"\"\n",
    "    result = 1     #This variable holds the accumulated product of modulo values - changes only if we have binary of 1 in the while loop\n",
    "    square = b     #This variable holds the current squared value with modulo applied - used to find next 'return' value\n",
    "    n = n          # Holds the current value of n - floor division of 2 applied at the end of each cycle to reduce\n",
    "    while (n > 0): # While loop will continue until n // 2 results in 0\n",
    "        k = n % 2  # determine if current value of _int mod 2 is 0 or 1 in the binary exapnsion\n",
    "        if k == 1: # Algorithm requires the squaring and modding of values to be applied if binary value is 1 in the expansion\n",
    "            result = (result * square) % m  # Square and fronm previous cycle and finds the remainder\n",
    "        square = (square * square) % m # move on to the next squared value, regardless if previously applied (prepare for next iteration)\n",
    "        n = n // 2 # reduce n for next iteration for purposes of binary expansion\n",
    "\n",
    "    return result # ending value in result contains the remainder of the overall expression\n",
    "    \n"
   ]
  },
  {
   "cell_type": "markdown",
   "metadata": {},
   "source": [
    "## 3. Code Package: Key Generation using Euclidean Algorithms\n",
    "\n",
    "<span style=\"color:DarkRed\">\n",
    "\n",
    "The functions below will generate the public and private key pairs which will then be used to create a ciphertext using the public key and then decode the same using the private key. </span>\n",
    "\n"
   ]
  },
  {
   "cell_type": "code",
   "execution_count": null,
   "metadata": {},
   "outputs": [],
   "source": [
    "def Euclidean_Alg(a, b):\n",
    "    \"\"\"\n",
    "    1. Calculate the Greatest Common Divisor of a and b.\n",
    "    \n",
    "    2. This version should have only positive inputs and outputs.\n",
    "    \n",
    "    3. The function must return a single integer ('x') which is\n",
    "    the gcd of a and b.\n",
    "    \n",
    "    \"\"\"\n",
    "    \n",
    "    \"\"\"\n",
    "    This function performs the Euclidean Algorithm and returns the greatest\n",
    "    common divisor (gcd) of two numbers.\n",
    "\n",
    "    Parameter a: This parameter is an integer value\n",
    "    Parameter b: This parameter is an integer value\n",
    "    \n",
    "    \"\"\"\n",
    "    # For the Euclid's Algorithm, the larger value needs to be first (in the 'a' position)\n",
    "    # swap values of a and b if b is larger\n",
    "    if b > a:\n",
    "        temp = a\n",
    "        a = b\n",
    "        b = temp\n",
    "    \n",
    "    # continuosly take the mod b of a\n",
    "    # b becomes 'new' and the remainder becomes new 'b'\n",
    "    # continues until b is 0 and the remaining a is the Greatest Common Divisor (gcd)\n",
    "    while b > 0:\n",
    "        k = a % b\n",
    "        a = b\n",
    "        b = k\n",
    "        \n",
    "    return a #return the gcd\n",
    "    "
   ]
  },
  {
   "cell_type": "code",
   "execution_count": null,
   "metadata": {},
   "outputs": [],
   "source": [
    "def EEA(a, b):\n",
    "    \"\"\"\n",
    "    This is a helper function utilizing Bezout's theorem as discussed in your MW.\n",
    "    You will follow these same steps closely to construct this function.\n",
    "    \n",
    "    This version will return both: \n",
    "    1. the GCD of a, b \n",
    "    2. Bezout's coefficients in any form you wish. We recommend returning your coefficients as a list or a tuple. \n",
    "    HINT: return GCD, (s1, t1)\n",
    "    \n",
    "    * Ensure that your inputs are positive integers. Implement these kinds of checks.\n",
    "    * It might also behoove you to consider reassigning a, b to new coefficients depending on which is greater.\n",
    "    \n",
    "    \"\"\"\n",
    "    \"\"\"\n",
    "    This function performs Sriram's Extended Euclidean Algorithm \n",
    "    provided to the class in the course lecture videos\n",
    "\n",
    "    Parameter a: This parameter is an integer value. Value must be greater than or equal to b.\n",
    "    Parameter b: This parameter is an integer value. Value must be less than or equal to a and\n",
    "                 must be greater than or equal to 0.\n",
    "    \"\"\"\n",
    "\n",
    "    s1, t1 = 1, 0    # Bezout Coefficients for variable m - Set initial coefficient to 1 and 0 to represent the input\n",
    "    s2, t2 = 0, 1    # Bezout Coefficients for variable n - Set initial coefficient to 0 and 1 to represent the input\n",
    "    while( b > 0) :  #Loop continues until there is no longer a remainder performing Euclid's Algorithm (b of 0 indicates we've reached the gcd)\n",
    "        k = a % b    \n",
    "        q = a // b   # Determine quotient for use in calculation of the Bezout Coeff. for the new n.\n",
    "        a = b        # Assign the smaller of the two integers in previous step to m for next step in Euclid's Alg.\n",
    "        b = k        # Assign the remainder to the smaller of the two integers for the next step in Euclid's Alg.\n",
    "        s1_hat, t1_hat = s2, t2   # assign Bezout coefficients of n into m (temporarily) avoids overwriting\n",
    "        s2_hat, t2_hat = s1 - q * s2, t1 - q * t2  #Calculate the bezout coefficients for the new n / the remainder k\n",
    "        s1, t1 = s1_hat, t1_hat  # reassigning bezout coeff. from temporary / loop variables for use in next cycle\n",
    "        s2, t2 = s2_hat, t2_hat  # reassigning bezout coeff. from temporary / loop variables for use in next cycle\n",
    "\n",
    "\n",
    "    return a, (s1, t1) #returns the gcd and a tuple for the necessary bezout coefficients to have the linear combination for the gcd    \n",
    "\n",
    "    "
   ]
  },
  {
   "cell_type": "code",
   "execution_count": null,
   "metadata": {
    "scrolled": true,
    "tags": []
   },
   "outputs": [],
   "source": [
    "def Find_Public_Key_e(p, q):\n",
    "    \"\"\"\n",
    "    Implement this function such that\n",
    "    it takes 2 primes p and q.\n",
    "    \n",
    "    Use the gcd function that you have \n",
    "    defined before.\n",
    "    \n",
    "    The function should return 2 elements as follows:\n",
    "    public key: n\n",
    "    public key: e\n",
    "    \n",
    "    HINT: this function will run a loop to find e such \n",
    "    that e is relatively prime to (p - 1) (q - 1) \n",
    "    and not equal to p or q.\n",
    "    \n",
    "    NOTE: There are a number of ways to implement this key feature. \n",
    "    You, as the coder, can choose to how to acheive this goal.\n",
    "    \n",
    "    \"\"\"\n",
    "    \n",
    "    \"\"\"\n",
    "    This function will find a public key 'e' that is relatively prime with (p-1) * (q-1)\n",
    "    \n",
    "    Parameter p: This parameter is a prime number used in the calculation of the product (p-1) * (q-1)\n",
    "    Parameter q: This parameter is a prime number used in the calculation of the product (p-1) * (q-1)\n",
    "    \"\"\"\n",
    "    \n",
    "    #Initialize the status that will, in part, control the loop below (e and (p-1) * (q-1) must be relatively prime)\n",
    "    relative_prime_status = False\n",
    "    \n",
    "    #calculate the modulo value to be used within both private and public keys\n",
    "    n = p * q\n",
    "    \n",
    "    assert n > 256, \"Product of the two prime numbers entered is not greater than 256.\"\n",
    "    \n",
    "    \n",
    "    # calculate modulo value for test of relative primality with e (property of Euler's Totient Function)\n",
    "    m = (p - 1) * (q - 1) \n",
    "    \n",
    "    #Continue the loop while e and n are not relatively prime\n",
    "    #The loop will also continue if e and m are the same\n",
    "    #both conditions must be false for loop to end\n",
    "    while relative_prime_status == False or e == m:\n",
    "        #obtain an random number to assign to e\n",
    "        #limited to 31 for demonstration purposes\n",
    "        e = random.randint(3, 31)\n",
    "        \n",
    "        # Call Euclid's Algorithm Function to determine GCD of e and m\n",
    "        if e != m:\n",
    "            gcd_result = Euclidean_Alg(m, e)\n",
    "        else:\n",
    "            #  continue to the next iteration as e and m can't be the same\n",
    "            continue   \n",
    "        # Test if the gcd of e and m is 1, if so they are relatively prime\n",
    "        # update status so flow breaks out of loop\n",
    "        if gcd_result == 1:\n",
    "             relative_prime_status = True\n",
    "                \n",
    "    return e, n\n",
    "\n",
    " "
   ]
  },
  {
   "cell_type": "code",
   "execution_count": null,
   "metadata": {},
   "outputs": [],
   "source": [
    "def Find_Private_Key_d(e, p, q):\n",
    "    \"\"\"\n",
    "    Implement this function to find the decryption exponent d, \n",
    "    such that d is the modular inverse of e. \n",
    "    \n",
    "    This will use the Extended Euclidean Algorithm\n",
    "    \n",
    "    This function should return the following:\n",
    "    d: the decryption component.\n",
    "    \n",
    "    This is not a single action, and there are multiple methods to create this. \n",
    "    \n",
    "    You may create a helper function or have all code within this function.\n",
    "    \n",
    "    Plan ahead before coding this.\n",
    "\n",
    "    \"\"\"\n",
    "    \n",
    "    \"\"\"\n",
    "    This function finds the modular inverse of the public key \n",
    "    'e' mod (p-1) * (q-1) or the private key 'd'\n",
    "\n",
    "    Parameter p: This parameter is a prime number used in the calculation of the product (p-1) * (q-1)\n",
    "    Parameter q: This parameter is a prime number used in the calculation of the product (p-1) * (q-1)\n",
    "    \"\"\"\n",
    "\n",
    "    # calculate modulo value to be used to determine modular inverse of e in EEA\n",
    "    m = (p - 1) * (q - 1) \n",
    "    \n",
    "  \n",
    "    # Determine which of the values e and m are larger\n",
    "    # as the Extended Eucl. Alg requires the larger of the two to be the first argument passed\n",
    "    if e > m:\n",
    "        gcd, bezout_coefficients = EEA(e, m)\n",
    "        d = bezout_coefficients[0] #extract the coeffiecient that represents the modular inverse\n",
    "        \n",
    "    # Based on the EA function used to determine e,\n",
    "    # e cannot be the same - no additional check needed\n",
    "    else:\n",
    "        gcd, bezout_coefficients = EEA(m, e)\n",
    "        d = bezout_coefficients[1] #extract the coeffiecient that represents the modular inverse\n",
    "\n",
    "    while d < 0:\n",
    "        d += m   #Add the Modulo value used in finding modular inverse until we get a positive value\n",
    "        \n",
    "    return d"
   ]
  },
  {
   "cell_type": "markdown",
   "metadata": {},
   "source": [
    "## 4. Code Package: En/Decode Your Messages\n",
    "\n",
    "<span style=\"color:DarkRed\">\n"
   ]
  },
  {
   "cell_type": "code",
   "execution_count": null,
   "metadata": {},
   "outputs": [],
   "source": [
    "def Convert_Text(_string):\n",
    "    \"\"\"\n",
    "    Define this function such that it takes in a simple \n",
    "    string such as \"hello\" and outputs the corresponding\n",
    "    standard list of integers (ascii) for each letter in the word hello.\n",
    "    For example:\n",
    "    _string = hello\n",
    "    integer_list = [104, 101, 108, 108, 111]\n",
    "    \n",
    "    You may use \"ord()\"\n",
    "    \"\"\"\n",
    "    integer_list = [] # List to hold the ASCII code values of each character passed\n",
    "    for character in _string:\n",
    "        integer_list.append(ord(character)) #convert the passed character to the ASCII decimal value\n",
    "    return integer_list\n"
   ]
  },
  {
   "cell_type": "code",
   "execution_count": null,
   "metadata": {},
   "outputs": [],
   "source": [
    "def Convert_Num(_list):\n",
    "    \"\"\"\n",
    "    Do the opposite of what you did in the Convert_Text\n",
    "    function defined above.\n",
    "    \n",
    "    Define this function such that it takes in a list of integers\n",
    "    and outputs the corresponding string (ascii).\n",
    "    \n",
    "    For example:\n",
    "    _list = [104, 101, 108, 108, 111]\n",
    "    _string = hello\n",
    "    \"\"\"\n",
    "    _string = '' # 'accumulate' the converted characters which will ultimately be returned as the original text\n",
    "    for i in _list:\n",
    "        _string += chr(i) #convert the passed ASCII decimal value to it's related character value and concatenate to string\n",
    "    \n",
    "    return _string"
   ]
  },
  {
   "cell_type": "code",
   "execution_count": null,
   "metadata": {},
   "outputs": [],
   "source": [
    "def Encode(n, e, message):\n",
    "    \"\"\"\n",
    "    Here, the message will be a string of characters.\n",
    "    Use the function Convert_Text from \n",
    "    the basic tool set and get a list of numbers.\n",
    "    \n",
    "    Encode each of these numbers using n and e and\n",
    "    return the encoded cipher_text.\n",
    "    \"\"\"\n",
    "    converted_message = Convert_Text(message) # convert the passed message argument to its ASCII decimal values\n",
    "    \n",
    "    cipher_text = []\n",
    "    \n",
    "    for code in converted_message:\n",
    "        FME_result = FME(code, e, n) # encrypt each ASCII value via Fast Modular Exponentiation using public key 'e' and modulo value 'n'\n",
    "        cipher_text.append(FME_result)\n",
    "    \n",
    "    return cipher_text"
   ]
  },
  {
   "cell_type": "code",
   "execution_count": null,
   "metadata": {},
   "outputs": [],
   "source": [
    "def Decode(n, d, cipher_text):\n",
    "    \"\"\"\n",
    "    Here, the cipher_text will be a list of integers.\n",
    "    First, you will decrypt each of those integers using \n",
    "    n and d.\n",
    "    \n",
    "    Later, you will need to use the function Convert_Num from the \n",
    "    basic toolset to recover the original message as a string. \n",
    "    \n",
    "    \"\"\"\n",
    "    \n",
    "    decipher_list = []\n",
    "    \n",
    "    for code in cipher_text:\n",
    "        FME_result = FME(code, d, n) # 'reverse' each encrypted value to it's related ASCII decimal code using private key 'd' and modulo 'n'\n",
    "        decipher_list.append(FME_result)\n",
    "    \n",
    "    message = Convert_Num(decipher_list) # convert each ASCII decimal value to it's related character and get the original message\n",
    "\n",
    "    \n",
    "    return message\n"
   ]
  },
  {
   "cell_type": "markdown",
   "metadata": {
    "tags": []
   },
   "source": [
    "## 5.</span>  Create a Code Demo\n",
    "<span style=\"color:DarkRed\">"
   ]
  },
  {
   "cell_type": "markdown",
   "metadata": {},
   "source": [
    "* Demonstrate and explain how you Generate keys with code and text blocks."
   ]
  },
  {
   "cell_type": "markdown",
   "metadata": {},
   "source": [
    "### Key Generation\n",
    "\n",
    "##### **Step 1 - Prime Number Selection**\n",
    "\n",
    "The first step in using the RSA Algorithm as described above is selecting two, large prime numbers. The product of these two numbers will be a component of public and private key generation. Additionally, this product will act as the second part of both keys.\n",
    "\n",
    "\n",
    "Things to remember / consider in number selection:\n",
    "* **Both** numbers must be prime.\n",
    "* The larger the numbers, the more secure the public key will be. In practice, 200 digits is considered a secure number size for each integer; however, much smaller, practical numbers will be used in the example herein.\n",
    "* Both numbers must be different for the algorithm to work.\n",
    "* The product of these needs to be greater than or equal to the size of the element being encrypted. (More below)\n",
    "* ***Keep these numbers a secret - they are the key to it all.***\n",
    "\n",
    "Below we set the variables p and q to two prime numbers:"
   ]
  },
  {
   "cell_type": "code",
   "execution_count": null,
   "metadata": {},
   "outputs": [],
   "source": [
    "p = 101\n",
    "q = 103"
   ]
  },
  {
   "cell_type": "markdown",
   "metadata": {},
   "source": [
    "##### **Step 2 - Public Key Generation**\n",
    "\n",
    "Now that we have selected two prime numbers, we will need to generate a public key, which we will assign to the variable 'e'. We will also need to generate the modulo value, which will be used as the second part of the key for encryption and decryption. We will assign this value to 'n'.\n",
    "\n",
    "We can generate this by calling the function 'Find_Public_Key_e', which takes two arguments p and q. We can simply call the function with the two variables we initialized above assigned to our two prime numbers as follows:\n"
   ]
  },
  {
   "cell_type": "code",
   "execution_count": null,
   "metadata": {
    "tags": []
   },
   "outputs": [],
   "source": [
    "e, n = Find_Public_Key_e(p, q)"
   ]
  },
  {
   "cell_type": "markdown",
   "metadata": {},
   "source": [
    "Let's print out our Results:"
   ]
  },
  {
   "cell_type": "code",
   "execution_count": null,
   "metadata": {},
   "outputs": [
    {
     "name": "stdout",
     "output_type": "stream",
     "text": [
      "\n",
      "The Public Key 'e' is: 23 \n",
      "\n",
      "The Modulo Value 'n' is: 10403\n"
     ]
    }
   ],
   "source": [
    "print(\"\\nThe Public Key 'e' is:\", e, '\\n')\n",
    "print(\"The Modulo Value 'n' is:\", n)"
   ]
  },
  {
   "cell_type": "markdown",
   "metadata": {
    "tags": []
   },
   "source": [
    "##### ***Public Key Generation Background***\n",
    "Now that we have seen how we can use the Public Key Generation Function, Let's get a little background on what is going on behind the scenes.\n",
    "\n",
    "As we have seen, the function is taking in two variables representing our selected prime numbers, p and q. When the function is called, the following main steps occur:\n",
    "\n",
    "1. The modulo value assigned to 'n' is calculated by multiplying p and q.\n",
    "    * The function will test to ensure that the product of these numbers exceeds 256. In order to avoid issues with encryption and decryption, we want to target a modulo value that exceeds the max value of our encrypted messages. As we will see below, the message values being converted are based on the ASCII table, on which the decimal values of characters range from 0 - 255. Consequently, there are 256 total decimal values. \n",
    "    \n",
    "    * If a modulo value below 256 is detected, the function will end and require that the function be reran with different values of p and q.\n",
    "  \n",
    "2. In order for the RSA algorithm to work, the public key value 'e' and the product of (p - 1) * (q - 1) must be relatively prime, meaning the greatest common divisor (gcd) of these two values is 1.\n",
    "    * I have the function defined so that it will randomly select a value for e. Values of 'e' typically range from 3 to 65,537 - certain values can be more efficient in exponentiation and there are different points of view on the security aspects of larger values. However, to keep in the spirit of smaller numbers, I've limited it to 31.\n",
    "        \n",
    "    * After a value for 'e' is randomized, the Euclidean Algorithm is called using the values of 'e' and (p - 1) * (q - 1) to test if the gcd of these two values is 1. If it is not, a new value of e will be generated and the Euclidean Algorithm will be called again. This will continue until a gcd of 1 is reached. See below where I independently call the Euclidean Algorithm function with the value of 'e' found above and our selected prime numbers, noting that the gcd is indeed 1:\n"
   ]
  },
  {
   "cell_type": "code",
   "execution_count": null,
   "metadata": {},
   "outputs": [
    {
     "name": "stdout",
     "output_type": "stream",
     "text": [
      "\n",
      "The gcd of e and (p * q) is: 1\n"
     ]
    }
   ],
   "source": [
    "gcd = Euclidean_Alg(p*q, e)\n",
    "\n",
    "print(\"\\nThe gcd of e and (p * q) is:\", gcd)"
   ]
  },
  {
   "cell_type": "markdown",
   "metadata": {},
   "source": [
    "3. Once the function is finished, it will return a value for 'e' and 'n' that are ready to be used in the next step of Private Key Generation."
   ]
  },
  {
   "cell_type": "markdown",
   "metadata": {},
   "source": [
    "##### **Step 3 - Private Key Generation**"
   ]
  },
  {
   "cell_type": "markdown",
   "metadata": {},
   "source": [
    "Now that we have generated an appropriate public key 'e' and a modulus value 'n' based on our selected prime numbers p and q,  it is time to generate a Private Key. This key is what makes RSA secure.\n",
    "\n",
    "Let's begin by calling the 'Find_Private_Key_d' function using the variables e (the public key), p and q (the two selected prime numbers) from above and assing the output to the variable 'd':"
   ]
  },
  {
   "cell_type": "code",
   "execution_count": null,
   "metadata": {},
   "outputs": [],
   "source": [
    "d = Find_Private_Key_d(e, p, q)"
   ]
  },
  {
   "cell_type": "markdown",
   "metadata": {},
   "source": [
    "Printing the Private Key:"
   ]
  },
  {
   "cell_type": "code",
   "execution_count": null,
   "metadata": {},
   "outputs": [
    {
     "name": "stdout",
     "output_type": "stream",
     "text": [
      "The Private Key is: 887\n"
     ]
    }
   ],
   "source": [
    "print(\"The Private Key is:\", d)"
   ]
  },
  {
   "cell_type": "markdown",
   "metadata": {},
   "source": [
    "##### ***Private Key Generation Background***\n",
    "\n",
    "Just as with the Public Key Generation, let's get into a little of what drives this function. \n",
    "\n",
    "To start us off, the reason that RSA works is in part due to the concept of modular inverses. Recall that in our Public Key (e) generation function that we needed to identify a value of 'e' that was relatively prime to the product of (p - 1) * (q - 1). Since these two values are indeed relatively prime, there exists a modular inverse. This is what we will identify within this function - the modular inverse of 'e mod (p - 1) * (q - 1)'.\n",
    "\n",
    "When the function is called, these following main steps occur:\n",
    "\n",
    "1. A variable 'd' is initialized with -1 (For purposes of loop control - see below)\n",
    "2. The value for (p - 1) * (q - 1) is calculated and assigned to the variable 'm'\n",
    "    * The value (p - 1) * (q - 1) is based on Euler's Totient Theorem.\n",
    "3. A while loop is implemented with the continue condition being that d < 0. This condition has been set as we do not want to return a negative modular inverse value. (This can cause issues with decryption as we want an integer value as the base)\n",
    "    * As the the loop is entered, the value assigned to 'e' and 'm' will be compared. From here, the Extended Euclidean Algorithm function 'EEA' is called. This function requires two arguments, with the largest of the two being called first - This is why the aforementioned comparison is carried out. See below for more information regarding the Extended Euclidean Algorithm.\n",
    "4. After the result of the Extended Euclidean Algorithm is returned. The Bezout Coefficient representing the modular inverse is extracted from the returned tuple.\n",
    "5. Once the function finds a suitable Private Key 'd', the value is returned."
   ]
  },
  {
   "cell_type": "markdown",
   "metadata": {},
   "source": [
    "##### **The Extended Euclidean Algorithm**\n",
    "\n",
    "The Extended Euclidean Algorithm 'EEA' is a critical component in the generation of the private key. As mentioned above, the RSA Algorithm is dependent of finding a modular inverse of 'e mod (p - 1) * (q - 1)'. This is where the Extended Euclidean Algorithm comes in. \n",
    "\n",
    "When the EEA function is called, the values for the public key and (p - 1) * (q - 1) assigned to 'e' and 'm' within the 'Find_Private_Key_d' function, respectively, are passed into the function as arguments. The EEA will then carry out the process of identifying the Bezout Coefficients that will provide us with a linear combination where the Bezout Coefficients multiplied by the values of 'e' and 'm' will arrive at the gcd. Since we know the gcd must be 1 based on the Public Key Function above, the function is trying to find the following linear combination where s and t are the Bezout Coefficients:\n",
    "\n",
    "s * e + t * m = 1 \n",
    "\n",
    "When reading this combination, the modular inverse of 'e' in this scenario would be the value of 's' - This value is ultimately the key 'd' that we can use as the private key.\n",
    "\n",
    "This is what makes the RSA Methodology so secure. In order to be able to find the private key associated with public key 'e', one would have to possess the original prime number values, p and q. Without these values, one could not calculate the  (p - 1) * (q - 1) value used in determing the modular inverse of 'e'. As we will see below in the code breaking section, it can be very difficult to find the prime factor's that produced the modulo value used as part of the key.  \n",
    "\n",
    "Let's run the Extended Euclidean Alorithm independently of the 'Find_Private_Key_d' function just to see what the results look like with our calculated values of m and e from above:"
   ]
  },
  {
   "cell_type": "code",
   "execution_count": null,
   "metadata": {},
   "outputs": [
    {
     "name": "stdout",
     "output_type": "stream",
     "text": [
      "The Bezout Coefficients are: (-2, 887)\n"
     ]
    }
   ],
   "source": [
    "gcd, bezout_coefficients = EEA((p - 1) * (q - 1), e)\n",
    "                               \n",
    "print(\"The Bezout Coefficients are:\", bezout_coefficients)"
   ]
  },
  {
   "cell_type": "markdown",
   "metadata": {},
   "source": [
    "We can see the Bezout Coefficient affiliated with 'e' is 887, consitent with our calculation of 'd' above."
   ]
  },
  {
   "cell_type": "markdown",
   "metadata": {},
   "source": [
    "* Demonstrate and explain how you encode a message with code and text blocks."
   ]
  },
  {
   "cell_type": "markdown",
   "metadata": {},
   "source": [
    "### **Message Encoding**"
   ]
  },
  {
   "cell_type": "markdown",
   "metadata": {},
   "source": [
    "Now that we have generated our public and private keys, we are ready to encrypt a message. \n",
    "\n",
    "Here were we will use the \"Encode\" function. This function needs three arguements provided to run - 'n' which is assigned (p * q), 'e' the public key and a string of text that we would like to encrypt. See this function being called with one of my favorite quotes:"
   ]
  },
  {
   "cell_type": "code",
   "execution_count": null,
   "metadata": {},
   "outputs": [],
   "source": [
    "encrypted_message = Encode(n, e, '“When you find your why, you find a way to make it happen.” – Eric Thomas')"
   ]
  },
  {
   "cell_type": "markdown",
   "metadata": {},
   "source": [
    "Let's print out our encrypted text:"
   ]
  },
  {
   "cell_type": "code",
   "execution_count": null,
   "metadata": {
    "tags": []
   },
   "outputs": [
    {
     "name": "stdout",
     "output_type": "stream",
     "text": [
      "The Encrypted message is as follows: [9425, 10386, 7520, 4141, 3530, 4690, 9368, 4232, 1472, 4690, 102, 82, 3530, 4746, 4690, 9368, 4232, 1472, 352, 4690, 6300, 7520, 9368, 1556, 4690, 9368, 4232, 1472, 4690, 102, 82, 3530, 4746, 4690, 4261, 4690, 6300, 4261, 9368, 4690, 4967, 4232, 4690, 7275, 4261, 4458, 4141, 4690, 82, 4967, 4690, 7520, 4261, 4596, 4596, 4141, 3530, 7678, 4937, 4690, 3075, 4690, 3592, 352, 82, 9138, 4690, 7409, 7520, 4232, 7275, 4261, 7390]\n"
     ]
    }
   ],
   "source": [
    "print(\"The Encrypted message is as follows:\", encrypted_message)"
   ]
  },
  {
   "cell_type": "markdown",
   "metadata": {},
   "source": [
    "As shown above, after we call the Encode function, it returns a list of what looks like random numbers. These numbers are really just the result of running the following expression:\n",
    "\n",
    "C =  M^e mod n\n",
    "\n",
    "Where:\n",
    "\n",
    "* M is the ASCII value of the character being encrypted\n",
    "* e is the public key we generated above\n",
    "* n is p * q \n",
    "* C is simply the result of the expression / the encrypted text\n",
    "\n",
    "The function will call two helper functions: Convert_Text and FME.\n",
    "\n",
    "The Convert_Text function's sole purpose is to take in a string a text, convert each character to it's ASCII value and then return a list containing all ASCII Value. For example, let's see what we would get if independently call the Convert_Text Function with the text \"Hello World\":"
   ]
  },
  {
   "cell_type": "code",
   "execution_count": null,
   "metadata": {},
   "outputs": [
    {
     "name": "stdout",
     "output_type": "stream",
     "text": [
      "[72, 101, 108, 108, 111, 32, 87, 111, 114, 108, 100]\n"
     ]
    }
   ],
   "source": [
    "hello_text_to_ascii = Convert_Text(\"Hello World\")\n",
    "\n",
    "print(hello_text_to_ascii)"
   ]
  },
  {
   "cell_type": "markdown",
   "metadata": {},
   "source": [
    "If we were to go review an ASCII table, we would see that the character 'H' has a decimal value of 72. \n",
    "\n",
    "Ther other function that Encode calls is the FME function. This function performs Fast Modular Exponentiation. This algorithm returns the result of 'M^e mod n'. Note that the result is the same if we were to use the syntax 'M**e % n' in python, but as we will see below, there is a big difference in how these two methods work and why FME is the preferred method here. \n",
    "\n",
    "To provide a brief example of what the FME function returns, consider the following using ASCII value 72 from above and our previous values of e and n:"
   ]
  },
  {
   "cell_type": "code",
   "execution_count": null,
   "metadata": {},
   "outputs": [
    {
     "name": "stdout",
     "output_type": "stream",
     "text": [
      "The encrypted value is: 6550\n"
     ]
    }
   ],
   "source": [
    "encrypted_example = FME(72, e, n)\n",
    "\n",
    "print(\"The encrypted value is:\", encrypted_example)"
   ]
  },
  {
   "cell_type": "markdown",
   "metadata": {},
   "source": [
    "This same calculation is then performed for each character within the string of text provided. The result is the encrypted message which is ultimately returned as a list by the Encode function. With that, we are now ready to Decrypt this text!"
   ]
  },
  {
   "cell_type": "markdown",
   "metadata": {},
   "source": [
    "* Demonstrate and explain how you decode the same message with code and text blocks.\n"
   ]
  },
  {
   "cell_type": "markdown",
   "metadata": {},
   "source": [
    "### **Message Decoding**"
   ]
  },
  {
   "cell_type": "markdown",
   "metadata": {},
   "source": [
    "Now that we have some encrypted text that someone has sent us, we would like to decrypt and read their message. The process for decryption is very similar to how we encoded text above, but there are a few key differences:\n",
    "\n",
    "* Instead of using the public key 'e' as the exponent in M^e mod n, we need to use 'd' - our private key we generated above.\n",
    "* Instead of M within M^e mod n, we will use C - the encoded text.\n",
    "* The expression will therefore be M = 'C^d mod n'.\n",
    "  \n",
    "See the results of calling the 'Decode' function using the private key 'd' and the encrypted text we generated with Encode above:"
   ]
  },
  {
   "cell_type": "code",
   "execution_count": null,
   "metadata": {},
   "outputs": [
    {
     "name": "stdout",
     "output_type": "stream",
     "text": [
      "The Decrypted message is: “When you find your why, you find a way to make it happen.” – Eric Thomas\n"
     ]
    }
   ],
   "source": [
    "decrypted_message = Decode(n, d, encrypted_message)\n",
    "\n",
    "print(\"The Decrypted message is:\", decrypted_message)"
   ]
  },
  {
   "cell_type": "markdown",
   "metadata": {},
   "source": [
    "As we can see, the decrypted text is the same as the text string we entered into the Encode text above!\n",
    "\n",
    "Similar to the Encode function,the Decode function has two helper functions: Convert_Num and FME.\n",
    "\n",
    "First, the Decode function will run a loop to perform Fast Modular Exponentiation via the FME function for each encryption value within the list passed to Decode. \n",
    "\n",
    "This is performed just like within the Encode function. See example below using the second value from our encrypted text above:"
   ]
  },
  {
   "cell_type": "code",
   "execution_count": null,
   "metadata": {},
   "outputs": [
    {
     "name": "stdout",
     "output_type": "stream",
     "text": [
      "The Decrypted numeric value is: 87\n"
     ]
    }
   ],
   "source": [
    "decrypted_example = FME(encrypted_message[1], d, n)\n",
    "\n",
    "print(\"The Decrypted numeric value is:\", decrypted_example)"
   ]
  },
  {
   "cell_type": "markdown",
   "metadata": {},
   "source": [
    "Here we see the result has been translated back to the ASCII decimal value for 'W', which agrees with our original message. We are able to do this because the Private Key 'd' is the modular inverse of 'e'!\n",
    "\n",
    "The final step in within the Decode function is calling the 'Convert_Num function', and it's sole purpose is to take in a list of ASCII decimal values, convert each number to it's ASCII character value and then concatenate each character to create a new string and return it. \n",
    "\n",
    "For example, let's see what we would get if independently call the Convert_Num Function with our list of ASCII values produced within the Encode Function:"
   ]
  },
  {
   "cell_type": "code",
   "execution_count": null,
   "metadata": {},
   "outputs": [
    {
     "name": "stdout",
     "output_type": "stream",
     "text": [
      "Hello World\n"
     ]
    }
   ],
   "source": [
    "hello_ascii_to_text = Convert_Num([72, 101, 108, 108, 111, 32, 87, 111, 114, 108, 100])\n",
    "\n",
    "print(hello_ascii_to_text)"
   ]
  },
  {
   "cell_type": "markdown",
   "metadata": {},
   "source": [
    "We get the same string as we inputted into the string to ASCII example above!\n",
    " \n",
    "As mentioned previously, the private key 'd' as well the original two prime numbers used to generate both keys must be kept secret. As will be further explored below, the effectiveness of the RSA algorithm lies in the difficulty in factoring large prime numbers. In our example, the modulo value of '10403' would be broken rather quickly with only 5 digits. However, if the modulo value were in the hundreds of digits, it could take a long time to find the two prime factors that made of the modulo value. As we saw with the decode function above, the only inputs we need to 'recreat' the private key are the public key 'e' and the two prime numbers. So it is paramount to keep these values to yourself!"
   ]
  },
  {
   "cell_type": "markdown",
   "metadata": {
    "tags": []
   },
   "source": [
    "##### ***Fast Modular Exponentiation (FME) vs the Basic Modular operator %***\n",
    "\n",
    "As we can see above and as previously noted, the following expressions were used to find our encrypted and decrypted numeric values:\n",
    "\n",
    "* C = M^e mod n - Representing the encrypted value\n",
    "* M = C^d mod n - Representing the decrypted value\n",
    "\n",
    "However, as previously noted, we did not used the built in python syntax of 'a**b % c' in order to find the remainder of an exponentiated value. Instead, the FME function (Fast Modular Exponentiation) was used to determine the remainder of the two expressions above. \n",
    "\n",
    "The reason for using FME over the '%' operator is due to how python is performing the exponentiation of the base. Operator precedence requires that the exponentiation value is calculated first and then the modular operator is applied. In the event of small exponent values, these will not make much difference in the time to complete the calculation, but as the value of the exponent increases, python has to increasingly perform more layers of multiplication, which can ultimately take a very long time. \n",
    "\n",
    "Conversely, FME will only have to perform a limited amount of steps to get to the remainder. At a high level, FME simply converts the exponent value into it's binary equivalent, if the value translated to it's binary equivlanet value is 1, the previously accumulated modded value is multiplied by the next squared value in the binary expansion. I've added an edited version of the FME function below, which counts the number of 'operations' that python has to perform. Using arbitrary numbers of 5 as the base, 250 as the exponent and 13 as the modulo value, we see that this set of numbers results in 52 steps (or operations) that are performed in the loop. Now, if we had used the % operator as in '5**250 % 13, this should result in 250 operations (249 occurrences of 5 x 5 and the a modulo operation % on the result). Just with this small example, we can see FME can much more efficiently reach the modular result. As RSA uses very large values as exponents for the private and public keys 'e' and 'd', respectively, FME is the preferred method for modular exponentiation.\n"
   ]
  },
  {
   "cell_type": "code",
   "execution_count": null,
   "metadata": {
    "jupyter": {
     "source_hidden": true
    },
    "tags": []
   },
   "outputs": [],
   "source": [
    "def FME_example(b, n, m):    \n",
    "    \"\"\"\n",
    "    This function performs Sriram's FME Algorithm \n",
    "    provided to the class in the course lecture\n",
    "    videos\n",
    "\n",
    "    Parameter b: This parameter is the integer value to be used as the base\n",
    "    Parameter n: This parameter is the integer value to be used as the exponent\n",
    "    Parameter m: This parameter is the integer value to be used as the modulo value\n",
    "    \n",
    "    \"\"\"\n",
    "    result = 1     #This variable holds the accumulated product of modulo values - changes only if we have binary of 1 in the while loop\n",
    "    square = b     #This variable holds the current squared value with modulo applied - used to find next 'return' value\n",
    "    n = n          # Holds the current value of n - floor division of 2 applied at the end of each cycle to reduce\n",
    "    counter = 0\n",
    "    while (n > 0): # While loop will continue until n // 2 results in 0\n",
    "        counter += 1\n",
    "        k = n % 2  # determines if the current value of n should be applied a 1 or 0 in binary\n",
    "        counter += 1\n",
    "        if k == 1:   #if the binary value is 1, execute this code block\n",
    "            counter += 2\n",
    "            result = (result * square) % m  # multiplies the result and squared value fron previous cycle and finds the remainder\n",
    "        counter += 2\n",
    "        square = (square * square) % m \n",
    "        counter += 1\n",
    "        n = n // 2 # Use integer division to reduce n for next cycle\n",
    "\n",
    "    return counter "
   ]
  },
  {
   "cell_type": "code",
   "execution_count": null,
   "metadata": {},
   "outputs": [
    {
     "name": "stdout",
     "output_type": "stream",
     "text": [
      "Total Steps Taken with FME: 52\n"
     ]
    }
   ],
   "source": [
    "print(\"Total Steps Taken with FME:\", FME_example(5, 250, 13))"
   ]
  },
  {
   "cell_type": "markdown",
   "metadata": {},
   "source": [
    "## 6. Code Exchange Results\n",
    "<span style=\"color:DarkRed\"> Now that your code is working and you are able read and write messages, include 3 complete examples of exchanging code (and exchange is both reading a message and responding) from Piazza here.  Both call your code and output code exchange results here. \n",
    "We are just looking to see which 3 codes you have exchanged in Piazza.</span>"
   ]
  },
  {
   "cell_type": "markdown",
   "metadata": {},
   "source": [
    "#### **Post 1**\n",
    "#### **Code Exchange with Instructor**\n",
    "**Post 110_f1**\n",
    "\n",
    "**Decryption:** "
   ]
  },
  {
   "cell_type": "code",
   "execution_count": null,
   "metadata": {},
   "outputs": [
    {
     "name": "stdout",
     "output_type": "stream",
     "text": [
      "Message: What song best describes the feeling you get when your RSA code is working?\n"
     ]
    }
   ],
   "source": [
    "n,e = 5251, 3        #Public key\n",
    "\n",
    "n,d = 5251, 3403     #Private key\n",
    "\n",
    "message = [2128, 1150, 4250, 1349, 1262, 3336, 2371, 2497, 519, 1262, 1263, 1105, 3336, 1349, 1262, 2310, 1105, 3336, 4115, 762, 2405, 1263, 1105, 3336, 1262, 1349, 1150, 1105, 1262, 506, 1105, 1105, 4723, 2405, 2497, 519, 1262, 1974, 2371, 58, 1262, 519, 1105, 1349, 1262, 4839, 1150, 1105, 2497, 1262, 1974, 2371, 58, 762, 1262, 13, 4679, 1573, 1262, 4115, 2371, 2310, 1105, 1262, 2405, 3336, 1262, 4839, 2371, 762, 1560, 2405, 2497, 519, 3250]\n",
    "\n",
    "decrypted_message = Decode(n, d, message)\n",
    "\n",
    "print(\"Message:\", decrypted_message)"
   ]
  },
  {
   "cell_type": "markdown",
   "metadata": {},
   "source": [
    "**Encryption:**"
   ]
  },
  {
   "cell_type": "code",
   "execution_count": null,
   "metadata": {},
   "outputs": [
    {
     "name": "stdout",
     "output_type": "stream",
     "text": [
      "message: [4696, 2497, 1262, 4592, 2371, 2911, 1262, 2371, 506, 1262, 1349, 1150, 1105, 1262, 2128, 2371, 762, 4723, 2310, 1262, 1263, 1974, 1262, 443, 3283, 4250, 519, 2405, 2497, 1105, 1262, 4623, 762, 4250, 519, 2371, 2497, 3336]\n"
     ]
    }
   ],
   "source": [
    "n, e = 5251, 3        #Public key\n",
    "\n",
    "n, d = 5251, 3403     #Private key\n",
    "\n",
    "encrypted_message = Encode(n, e, \"On Top of the World by Imagine Dragons\")\n",
    "\n",
    "print(\"message:\", encrypted_message)"
   ]
  },
  {
   "cell_type": "markdown",
   "metadata": {},
   "source": [
    "#### **Post 2**\n",
    "#### **My Posted Question:**\n",
    "\n",
    "**Post 110_f7**\n",
    "\n",
    "**Encryption**"
   ]
  },
  {
   "cell_type": "code",
   "execution_count": null,
   "metadata": {},
   "outputs": [
    {
     "name": "stdout",
     "output_type": "stream",
     "text": [
      "message: [7409, 5254, 8538, 1250, 3879, 2673, 6125, 3879, 1250, 5254, 4949, 3879, 4139, 4949, 6125, 1250, 3879, 1319, 8538, 8627, 8538, 1250, 2673, 1626, 9296, 3879, 3519, 1626, 694, 3879, 5254, 8538, 1319, 4949, 3879, 4139, 4949, 4949, 9296, 3879, 1626, 9296, 4938, 3879, 3, 3879, 9296, 4949, 4949, 1918, 3879, 6125, 1626, 7015, 4949, 3879, 2673, 1918, 4949, 8538, 6125, 6182]\n"
     ]
    }
   ],
   "source": [
    "n, e = 10403, 29     #Public key\n",
    "\n",
    "n, d = 10403, 3869   #Private key\n",
    "\n",
    "encrypted_message = Encode(n, e, \"What is the best vacation you have been on? I need some ideas!\")\n",
    "\n",
    "print(\"message:\", encrypted_message)"
   ]
  },
  {
   "cell_type": "markdown",
   "metadata": {},
   "source": [
    "**Decrypting A Student Response (From Faisal Shahin)**"
   ]
  },
  {
   "cell_type": "code",
   "execution_count": null,
   "metadata": {},
   "outputs": [
    {
     "name": "stdout",
     "output_type": "stream",
     "text": [
      "Message: Being from Jordan, I would obviously say go there! Other than that, Oman is by far my favorite of the 20 or so contries I've been to. Food is meh but people are great and beautiful\n"
     ]
    }
   ],
   "source": [
    "n, e = 10403, 29   #Public key\n",
    "\n",
    "n, d = 10403, 3869 #Private key\n",
    "\n",
    "message = [7097, 4949, 2673, 9296, 8240, 3879, 102, 7799, 1626, 7015, 3879, 2113, 1626, 7799, 1918, 8538, 9296, 7412, 3879, 3, 3879, 6599, 1626, 694, 4719, 1918, 3879, 1626, 4139, 1319, 2673, 1626, 694, 6125, 4719, 3519, 3879, 6125, 8538, 3519, 3879, 8240, 1626, 3879, 1250, 5254, 4949, 7799, 4949, 6182, 3879, 5390, 1250, 5254, 4949, 7799, 3879, 1250, 5254, 8538, 9296, 3879, 1250, 5254, 8538, 1250, 7412, 3879, 5390, 7015, 8538, 9296, 3879, 2673, 6125, 3879, 4139, 3519, 3879, 102, 8538, 7799, 3879, 7015, 3519, 3879, 102, 8538, 1319, 1626, 7799, 2673, 1250, 4949, 3879, 1626, 102, 3879, 1250, 5254, 4949, 3879, 2109, 479, 3879, 1626, 7799, 3879, 6125, 1626, 3879, 8627, 1626, 9296, 1250, 7799, 2673, 4949, 6125, 3879, 3, 5902, 1319, 4949, 3879, 4139, 4949, 4949, 9296, 3879, 1250, 1626, 5103, 3879, 6487, 1626, 1626, 1918, 3879, 2673, 6125, 3879, 7015, 4949, 5254, 3879, 4139, 694, 1250, 3879, 9555, 4949, 1626, 9555, 4719, 4949, 3879, 8538, 7799, 4949, 3879, 8240, 7799, 4949, 8538, 1250, 3879, 8538, 9296, 1918, 3879, 4139, 4949, 8538, 694, 1250, 2673, 102, 694, 4719]\n",
    "\n",
    "decrypted_message = Decode(n, d, message)\n",
    "\n",
    "print(\"Message:\", decrypted_message)"
   ]
  },
  {
   "cell_type": "markdown",
   "metadata": {},
   "source": [
    "#### **Post 3**\n",
    "#### **Student Post from Linda Maccagnan**\n",
    "\n",
    "**Post 110_f6**\n",
    "\n",
    "**Decryption**"
   ]
  },
  {
   "cell_type": "code",
   "execution_count": null,
   "metadata": {},
   "outputs": [
    {
     "name": "stdout",
     "output_type": "stream",
     "text": [
      "Message: When it's hot outside, do you prefer ice cream or a popsicle? What's your favorite?\n"
     ]
    }
   ],
   "source": [
    "n, e = 153193, 5      #Public key\n",
    "\n",
    "n, d = 153193, 91433  #Private key\n",
    "\n",
    "message = [74952, 94157, 141543, 73103, 5165, 409, 43504, 146715, 96940, 5165, 94157, 117516, 43504, 5165, 117516, 110969, 43504, 96940, 409, 20539, 141543, 80556, 5165, 20539, 117516, 5165, 11385, 117516, 110969, 5165, 94112, 83619, 141543, 35329, 141543, 83619, 5165, 409, 138638, 141543, 5165, 138638, 83619, 141543, 106642, 147401, 5165, 117516, 83619, 5165, 106642, 5165, 94112, 117516, 94112, 96940, 409, 138638, 80559, 141543, 52289, 5165, 74952, 94157, 106642, 43504, 146715, 96940, 5165, 11385, 117516, 110969, 83619, 5165, 35329, 106642, 41334, 117516, 83619, 409, 43504, 141543, 52289]\n",
    "\n",
    "decrypted_message = Decode(n, d, message)\n",
    "\n",
    "print(\"Message:\", decrypted_message)"
   ]
  },
  {
   "cell_type": "markdown",
   "metadata": {},
   "source": [
    "**My Response:**\n",
    "\n",
    "**Encryption**"
   ]
  },
  {
   "cell_type": "code",
   "execution_count": null,
   "metadata": {},
   "outputs": [
    {
     "name": "stdout",
     "output_type": "stream",
     "text": [
      "message: [140550, 44009, 44009, 44009, 100721, 5165, 94112, 83619, 141543, 35329, 141543, 83619, 5165, 63917, 138638, 141543, 5165, 35198, 83619, 141543, 106642, 147401, 71178, 5165, 17040, 11385, 5165, 35329, 106642, 41334, 117516, 83619, 409, 43504, 141543, 5165, 409, 96940, 5165, 43504, 94157, 141543, 5165, 409, 138638, 141543, 5165, 138638, 83619, 141543, 106642, 147401, 5165, 43504, 94157, 106642, 43504, 5165, 63917, 5165, 13661, 117516, 43504, 5165, 50217, 94157, 141543, 73103, 5165, 63917, 5165, 80559, 409, 41334, 141543, 20539, 5165, 409, 73103, 5165, 84012, 110969, 83619, 117516, 94112, 141543, 5165, 83753, 5165, 63917, 5165, 13661, 110969, 141543, 96940, 96940, 5165, 43504, 141543, 138638, 94157, 73103, 409, 138638, 106642, 80559, 80559, 11385, 5165, 409, 43504, 5165, 50217, 106642, 96940, 5165, 75390, 141543, 80559, 106642, 43504, 117516, 80556, 5165, 55003, 110969, 43504, 5165, 43504, 94157, 141543, 11385, 5165, 50217, 117516, 110969, 80559, 20539, 5165, 94112, 110969, 43504, 5165, 20539, 409, 35329, 35329, 141543, 83619, 141543, 73103, 43504, 5165, 35329, 83619, 110969, 409, 43504, 96940, 5165, 106642, 73103, 20539, 5165, 96940, 11385, 83619, 110969, 94112, 96940, 5165, 117516, 73103, 5165, 409, 43504, 5165, 106642, 73103, 20539, 5165, 409, 43504, 5165, 50217, 106642, 96940, 5165, 96940, 117516, 5165, 13661, 117516, 117516, 20539, 71584, 5165, 75390, 83619, 141543, 106642, 43504, 5165, 35329, 117516, 83619, 5165, 106642, 5165, 94157, 117516, 43504, 5165, 96940, 110969, 147401, 147401, 141543, 83619, 5165, 20539, 106642, 11385, 71178]\n"
     ]
    }
   ],
   "source": [
    "n, e = 153193, 5      #Public key\n",
    "\n",
    "n, d = 153193, 91433  #Private key\n",
    "\n",
    "encrypted_message = Encode(n, e, \"1000% prefer Ice Cream! My favorite is the ice cream that I got when I lived in Europe - I guess technically it was Gelato, but they would put different fruits and syrups on it and it was so good. Great for a hot summer day!\")\n",
    "\n",
    "print(\"message:\", encrypted_message)"
   ]
  },
  {
   "cell_type": "markdown",
   "metadata": {
    "tags": []
   },
   "source": [
    "## 7. Code Breaking: How To\n",
    "\n",
    "<span style=\"color:DarkRed\">\n",
    "\n",
    "\n",
    "**Implementing a brute force factoring algorithm:**\n",
    "\n",
    "See the function below:"
   ]
  },
  {
   "cell_type": "code",
   "execution_count": null,
   "metadata": {},
   "outputs": [],
   "source": [
    "def factorize(n):\n",
    "    for num in range(2, n): #Loop through all integers between 2 and (n -1)\n",
    "        if n % num == 0:    # If a number is divisible by num, a factor has been identified\n",
    "            return num\n",
    "    return False"
   ]
  },
  {
   "cell_type": "markdown",
   "metadata": {},
   "source": [
    "### **Code Breaking Demonstration**\n"
   ]
  },
  {
   "cell_type": "markdown",
   "metadata": {
    "tags": []
   },
   "source": [
    "<span style=\"color:DarkRed\">\n",
    "\n",
    "* Decode one example from Piazza in detail showing all the steps. Use a combination of code and markdown blocks.\n",
    "* Decode and Respond to 3 \"just codes with public keys\" in Piazza with different sizes of n. Include complete results here - you may just show the results here.</span>\n"
   ]
  },
  {
   "cell_type": "markdown",
   "metadata": {},
   "source": [
    "#### **Example Code Break: Student Cipher by Patricia Varela**\n",
    "\n",
    "Post 107_f12"
   ]
  },
  {
   "cell_type": "code",
   "execution_count": null,
   "metadata": {},
   "outputs": [],
   "source": [
    "n, e = 671, 47   #Public keys\n",
    "\n",
    "Message = [294, 133, 70, 492, 234, 21, 29, 321, 29, 577, 121, 133, 649, 29, 21, 29, 649, 171, 133, 121, 481, 649, 544, 21, 315, 481, 234, 451, 577, 29, 580, 29, 21, 118, 580, 577, 391, 451, 580, 391, 577, 29, 234, 200, 21, 281, 575, 481, 234, 21, 451, 257, 290, 234, 234, 21, 575, 290, 234, 21, 175, 29, 29, 649, 21, 234, 133, 21, 451, 575, 290, 257, 257, 29, 649, 544, 481, 649, 544, 21, 290, 649, 309, 21, 577, 29, 70, 290, 577, 309, 481, 649, 544, 21, 515, 133, 577, 21, 197, 29, 99]"
   ]
  },
  {
   "cell_type": "markdown",
   "metadata": {},
   "source": [
    "#### **Step 1** - Factoring\n",
    "The first step in decrypting the Cipher is trying to determine the two prime factors what were used to generate 'n' portion of the key (the modulo value). In order to do this, we can call the factorize function above and use the value of 'n' within the public key as the argument:"
   ]
  },
  {
   "cell_type": "code",
   "execution_count": null,
   "metadata": {},
   "outputs": [
    {
     "name": "stdout",
     "output_type": "stream",
     "text": [
      "The first prime value is: 11\n"
     ]
    }
   ],
   "source": [
    "n, e = 671, 47   #Public keys\n",
    "\n",
    "prime_factor_1 = factorize(n)\n",
    "\n",
    "print(\"The first prime value is:\", prime_factor_1)"
   ]
  },
  {
   "cell_type": "markdown",
   "metadata": {},
   "source": [
    "As we can see,the prime factor found is 11. What this function does is that it will loop through each number between 2 and (n - 1)*, which is 670 in this example and will divide 'n' by each each number and check if a remainder of 0 is returned. If a remainder of 0 is returned, this means that 'n' is divisible by this number. Because 'n' is semiprime, meaning it is a composite number that is the product of exactly two prime numbers, once we find 1 value, we can easily obtain the second as we'll see below. \n",
    "\n",
    "***Note:** This range is used because we know that the number 'n' has two prime factors (as is required by the RSA algorithm), so we can ignore 1 and the number itself. \n",
    "\n",
    "Next, we'll obtain the second prime value used to calculate 'n' using simple integer division:"
   ]
  },
  {
   "cell_type": "code",
   "execution_count": null,
   "metadata": {},
   "outputs": [
    {
     "name": "stdout",
     "output_type": "stream",
     "text": [
      "The second prime values is: 61\n"
     ]
    }
   ],
   "source": [
    "prime_factor_2 = n // prime_factor_1\n",
    "\n",
    "print(\"The second prime values is:\", prime_factor_2)"
   ]
  },
  {
   "cell_type": "markdown",
   "metadata": {},
   "source": [
    "Now we have both prime factors that were used to calculate the value of 'n'. Now we just have one more step before we can start decrypting messages."
   ]
  },
  {
   "cell_type": "markdown",
   "metadata": {},
   "source": [
    "#### **Step 2** - Private Key Generation\n",
    "Since we now have both prime factors used to calculate 'n' and we have the public key 'e', we can 'recreate' the private key using the 'Find_Private_Key_d' function:\n",
    "\n",
    "Using prime_factor_1, prime_factor_2 and e from above, we can call Find_Private_Key_d':"
   ]
  },
  {
   "cell_type": "code",
   "execution_count": null,
   "metadata": {},
   "outputs": [
    {
     "name": "stdout",
     "output_type": "stream",
     "text": [
      "The Private Key is: 383\n"
     ]
    }
   ],
   "source": [
    "recreated_d = Find_Private_Key_d(e, prime_factor_1, prime_factor_2)\n",
    "\n",
    "print(\"The Private Key is:\", recreated_d)"
   ]
  },
  {
   "cell_type": "markdown",
   "metadata": {},
   "source": [
    "#### **Step 3** - Decode\n",
    "\n",
    "We now have everything we need to decrypt the ciphered message!  We can simply call the 'Decode' function using the newly descovered private key and print off the results to see what was written:"
   ]
  },
  {
   "cell_type": "code",
   "execution_count": null,
   "metadata": {},
   "outputs": [
    {
     "name": "stdout",
     "output_type": "stream",
     "text": [
      "How's everyone enjoying Discrete Structures? This class has been so challenging and rewarding for me!\n"
     ]
    }
   ],
   "source": [
    "decrypted_message = Decode(n, recreated_d, Message)\n",
    "\n",
    "print(decrypted_message)"
   ]
  },
  {
   "cell_type": "markdown",
   "metadata": {},
   "source": [
    "And there we have it! As discussed below, in the real world, the values of 'n' will be much larger and running this brute force algorithm to find the first prime number can take a very long time to accomplish. But this is the general idea!"
   ]
  },
  {
   "cell_type": "markdown",
   "metadata": {},
   "source": [
    "#### **Coding Breaking Summary**\n",
    "\n",
    "As shown above, the idea of breaking a RSA code is relatively simple to understand. We just need to factor the modulo value 'n' until we can find that first prime number used to calculate it. We did this with ease above, but this was just a 3 digit number. But what happens when the value of 'n' gets larger? See an example below where we try to break a 20 digit value of 'n':"
   ]
  },
  {
   "cell_type": "code",
   "execution_count": null,
   "metadata": {},
   "outputs": [
    {
     "name": "stdout",
     "output_type": "stream",
     "text": [
      "The digits count of 'n' is: 20 \n",
      "\n",
      "The first prime factor is: 1543175519\n"
     ]
    }
   ],
   "source": [
    "p = 1543175519\n",
    "q = 9912961601\n",
    "n = p * q\n",
    "print(\"The digits count of 'n' is:\", len(str(n)), \"\\n\")\n",
    "print(\"The first prime factor is:\", factorize(n))"
   ]
  },
  {
   "cell_type": "markdown",
   "metadata": {},
   "source": [
    "As we can see, when we run the above code, it takes significantly more amount of time to break the code when compared to the above example (This example took approximately 4 minutes to break and it is obviosuly not very secure!). However, as the value of 'n' gets larger, it will take more and more time to break the code. This is why RSA is considered secure as it can be very difficult even for computer's to crack the code. In practice, newer keys generated are typically 4096-bit or 1234 digits in size. Just imagine the processing power needed to crack something of this size! "
   ]
  },
  {
   "cell_type": "markdown",
   "metadata": {},
   "source": [
    "## **8. Code Breaking: Complete Examples**\n",
    "\n",
    "#### **Code Break and Response 1**\n",
    "\n",
    "**Student Provided Cipher from Ashley Judah**\n",
    "\n",
    "Post: 107_f6\n",
    "\n",
    "**Code Break:**"
   ]
  },
  {
   "cell_type": "code",
   "execution_count": null,
   "metadata": {},
   "outputs": [
    {
     "name": "stdout",
     "output_type": "stream",
     "text": [
      "What is always in front of you but cant be seen?\n"
     ]
    }
   ],
   "source": [
    "n, e = 7031, 5 #Public Key\n",
    "\n",
    "Cipher = [3617, 2252, 283, 5578, 2500, 3805, 4237, 2500, 283, 2433, 6204, 283, 2322, 4237, 2500, 3805, 3896, 2500, 608, 5440, 2579, 3896, 5578, 2500, 2579, 608, 2500, 2322, 2579, 1328, 2500, 6717, 1328, 5578, 2500, 1922, 283, 3896, 5578, 2500, 6717, 7019, 2500, 4237, 7019, 7019, 3896, 3862]\n",
    "\n",
    "prime_factor_1 = factorize(n)\n",
    "prime_factor_2 = n // prime_factor_1\n",
    "recreated_d = Find_Private_Key_d(e, prime_factor_1, prime_factor_2)\n",
    "\n",
    "decrypted_message = Decode(n, recreated_d, Cipher)\n",
    "print(decrypted_message)"
   ]
  },
  {
   "cell_type": "markdown",
   "metadata": {},
   "source": [
    "**Reply - Encryption:**"
   ]
  },
  {
   "cell_type": "code",
   "execution_count": null,
   "metadata": {},
   "outputs": [
    {
     "name": "stdout",
     "output_type": "stream",
     "text": [
      "[2336, 2407, 6947, 2500, 6850, 2579, 3805, 3896, 6850, 2500, 5578, 2579, 2500, 4237, 283, 2322, 2500, 2322, 2579, 1328, 5440, 2500, 6947, 2579, 1328, 5578, 2252, 3862, 2500, 2336, 4237, 2500, 5578, 2252, 283, 5578, 2500, 5578, 7019, 1922, 2252, 3896, 3805, 1922, 283, 2433, 2433, 2322, 2500, 3805, 3896, 2500, 608, 5440, 2579, 3896, 5578, 2500, 2579, 608, 2500, 6947, 7019, 3862, 2500, 3896, 2579, 2500, 1922, 2433, 1328, 7019, 2500, 6156, 2528, 6156]\n"
     ]
    }
   ],
   "source": [
    "encrypted_text = Encode(n, e,  \"I'm going to say your mouth? Is that technically in front of me? no clue LOL\")\n",
    "print(encrypted_text)"
   ]
  },
  {
   "cell_type": "markdown",
   "metadata": {},
   "source": [
    "#### **Code Break and Response 2**\n",
    "\n",
    "**Student Provided Cipher from AB**\n",
    "\n",
    "Post: 107_f15\n",
    "\n",
    "**Code Break:**"
   ]
  },
  {
   "cell_type": "code",
   "execution_count": null,
   "metadata": {},
   "outputs": [
    {
     "name": "stdout",
     "output_type": "stream",
     "text": [
      "You did the impossible and encrypted my message! Now, I have one question which is what is your favorite Season and why? Mine is Summer because of the great camping weather!\n"
     ]
    }
   ],
   "source": [
    "n, e = 703, 113  #Public key\n",
    "\n",
    "Message = [394, 555, 376, 242, 47, 364, 47, 242, 165, 472, 233, 242, 364, 523, 519, 555, 210, 210, 364, 224, 90, 233, 242, 526, 591, 47, 242, 233, 591, 511, 95, 581, 519, 165, 233, 47, 242, 523, 581, 242, 523, 233, 210, 210, 526, 88, 233, 86, 242, 469, 555, 541, 157, 242, 517, 242, 472, 526, 416, 233, 242, 555, 591, 233, 242, 550, 376, 233, 210, 165, 364, 555, 591, 242, 541, 472, 364, 511, 472, 242, 364, 210, 242, 541, 472, 526, 165, 242, 364, 210, 242, 581, 555, 376, 95, 242, 410, 526, 416, 555, 95, 364, 165, 233, 242, 182, 233, 526, 210, 555, 591, 242, 526, 591, 47, 242, 541, 472, 581, 195, 242, 58, 364, 591, 233, 242, 364, 210, 242, 182, 376, 523, 523, 233, 95, 242, 224, 233, 511, 526, 376, 210, 233, 242, 555, 410, 242, 165, 472, 233, 242, 88, 95, 233, 526, 165, 242, 511, 526, 523, 519, 364, 591, 88, 242, 541, 233, 526, 165, 472, 233, 95, 86]\n",
    "\n",
    "prime_factor_1 = factorize(n)\n",
    "prime_factor_2 = n // prime_factor_1\n",
    "recreated_d = Find_Private_Key_d(e, prime_factor_1, prime_factor_2)\n",
    "\n",
    "decrypted_message = Decode(n, recreated_d, Message)\n",
    "print(decrypted_message)"
   ]
  },
  {
   "cell_type": "markdown",
   "metadata": {},
   "source": [
    "**Reply - Encryption:**"
   ]
  },
  {
   "cell_type": "code",
   "execution_count": null,
   "metadata": {},
   "outputs": [
    {
     "name": "stdout",
     "output_type": "stream",
     "text": [
      "[517, 476, 523, 242, 88, 555, 364, 591, 88, 242, 165, 555, 242, 210, 526, 581, 242, 523, 581, 242, 410, 526, 416, 555, 95, 364, 165, 233, 242, 210, 233, 526, 210, 555, 591, 242, 364, 210, 242, 165, 472, 233, 242, 210, 376, 523, 523, 233, 95, 157, 242, 165, 555, 555, 86, 242, 517, 165, 476, 210, 242, 165, 472, 233, 242, 410, 376, 95, 165, 472, 233, 210, 165, 242, 526, 541, 526, 581, 242, 410, 95, 555, 523, 242, 165, 472, 233, 242, 541, 364, 591, 165, 233, 95, 86, 242, 115, 395]\n"
     ]
    }
   ],
   "source": [
    "encrypted_text = Encode(n, e,  \"I'm going to say my favorite season is the summer, too! It's the furthest away from the winter! :)\")\n",
    "print(encrypted_text)"
   ]
  },
  {
   "cell_type": "markdown",
   "metadata": {},
   "source": [
    "#### **Code Break and Response 3**\n",
    "\n",
    "**Student Provided Cipher from Connor Brown**\n",
    "\n",
    "Post: 107_f22\n",
    "\n",
    "**Code Break:**"
   ]
  },
  {
   "cell_type": "code",
   "execution_count": null,
   "metadata": {},
   "outputs": [
    {
     "name": "stdout",
     "output_type": "stream",
     "text": [
      "\"Never trust a computer you can't throw out the window\" - Steve Wozniak\n"
     ]
    }
   ],
   "source": [
    "n, e = 736783, 8477    # Public Key\n",
    "\n",
    "Cipher = [23335, 46316, 152996, 421302, 152996, 97426, 484877, 599430, 97426, 279331, 284978, 599430, 484877, 191724, 484877, 332650, 236437, 518237, 712317, 279331, 599430, 152996, 97426, 484877, 549135, 236437, 279331, 484877, 332650, 191724, 419686, 561598, 599430, 484877, 599430, 595397, 97426, 236437, 678207, 484877, 236437, 279331, 599430, 484877, 599430, 595397, 152996, 484877, 678207, 612303, 419686, 572214, 236437, 678207, 23335, 484877, 237924, 484877, 559982, 599430, 152996, 421302, 152996, 484877, 571727, 236437, 246489, 419686, 612303, 191724, 332739]\n",
    "\n",
    "prime_factor_1 = factorize(n)\n",
    "prime_factor_2 = n // prime_factor_1\n",
    "recreated_d = Find_Private_Key_d(e, prime_factor_1, prime_factor_2)\n",
    "\n",
    "decrypted_message = Decode(n, recreated_d, Cipher)\n",
    "print(decrypted_message)"
   ]
  },
  {
   "cell_type": "markdown",
   "metadata": {},
   "source": [
    "**Reply - Encryption:**"
   ]
  },
  {
   "cell_type": "code",
   "execution_count": null,
   "metadata": {},
   "outputs": [
    {
     "name": "stdout",
     "output_type": "stream",
     "text": [
      "[199062, 279331, 419686, 484877, 380591, 191724, 332650, 599430, 484877, 191724, 670790, 236437, 279331, 599430, 484877, 571727, 236437, 246489, 419686, 612303, 191724, 332739, 86325, 484877, 595397, 152996, 484877, 670790, 97426, 612303, 152996, 380591, 534191, 549135, 484877, 191724, 599430, 599430, 152996, 419686, 572214, 152996, 572214, 484877, 36858, 219751, 484877, 372094, 236437, 279331, 534191, 572214, 152996, 97426, 86325, 484877, 670790, 279331, 599430, 484877, 354818, 236437, 599430, 484877, 152996, 144441, 712317, 152996, 534191, 534191, 152996, 572214, 484877, 380591, 236437, 97426, 484877, 595397, 191724, 332650, 332739, 612303, 419686, 354818, 484877, 599430, 595397, 152996, 484877, 279331, 419686, 612303, 421302, 152996, 97426, 284978, 612303, 599430, 549135, 561598, 284978, 484877, 332650, 236437, 518237, 712317, 279331, 599430, 152996, 97426, 484877, 284978, 549135, 284978, 599430, 152996, 518237, 183721, 484877]\n"
     ]
    }
   ],
   "source": [
    "encrypted_text = Encode(n, e,  \"Fun fact about Wozniak, he briefly attended CU Boulder, but got expelled for hacking the university's computer system! \")\n",
    "print(encrypted_text)"
   ]
  },
  {
   "cell_type": "markdown",
   "metadata": {},
   "source": [
    "#### **One of My Posted Codes for the Class to Break**\n",
    "\n",
    "Post: 107_f5\n",
    "\n",
    "**Encrypt**"
   ]
  },
  {
   "cell_type": "code",
   "execution_count": null,
   "metadata": {},
   "outputs": [
    {
     "name": "stdout",
     "output_type": "stream",
     "text": [
      "The encrypted message is: [5335417329, 2166751896, 1076009535, 6798830531, 3228391782, 8192361254, 5980810360, 8411190585, 9550817397, 6269781163, 6265810417, 2166751896, 7322977947, 6269781163, 8598505669, 3228391782, 2166751896, 2564335777, 3741271076, 6269781163, 8944331737, 2723359809, 6269781163, 3741271076, 1076009535, 8650241689, 3228391782, 2723359809, 8630615822, 5980810360, 6932793328, 2166751896, 1076009535, 9550817397, 6269781163, 4711062354, 497338523, 3741271076, 3228391782, 3741271076, 6269781163, 8192361254, 3228391782, 3741271076, 6269781163, 2723359809, 2166751896, 7322977947, 6269781163, 3754451804, 3228391782, 2166751896, 8944331737, 7221393925, 6269781163, 3419728647, 1271309668, 1750957107, 1750957107, 6269781163, 8411190585, 5980810360, 8192361254, 3228391782, 5980810360, 6269781163, 2434609571, 6269781163, 3419728647, 1271309668, 8944331737, 6269781163, 3754451804, 3228391782, 2166751896, 8944331737, 6269781163, 3419728647, 1076009535, 8357356911, 6932793328, 8192361254, 1076009535, 8192361254, 9550817397]\n"
     ]
    }
   ],
   "source": [
    "n, e, = 9668771621, 25 #Public Key\n",
    "\n",
    "d = 4640508841 #Private Key used in Encryption - Not shared with class!\n",
    "\n",
    "encrypted_message = Encode(n, e, \"Congrats! You broke my encryption! Where are you from? I'll start - I'm from Indiana!\")\n",
    "\n",
    "print(\"The encrypted message is:\", encrypted_message)\n"
   ]
  },
  {
   "cell_type": "markdown",
   "metadata": {},
   "source": [
    "**Decrypting a Student Response with my Private Key:**"
   ]
  },
  {
   "cell_type": "code",
   "execution_count": null,
   "metadata": {},
   "outputs": [
    {
     "name": "stdout",
     "output_type": "stream",
     "text": [
      "The decrypted response is: I am originally from Florida, but have lived in Colorado for 10 years :)\n"
     ]
    }
   ],
   "source": [
    "n, e, = 9668771621, 25 #Public Key\n",
    "\n",
    "Cipher = [3419728647, 6269781163, 8192361254, 8944331737, 6269781163, 2166751896, 3228391782, 6932793328, 6798830531, 6932793328, 1076009535, 8192361254, 1750957107, 1750957107, 2723359809, 6269781163, 3754451804, 3228391782, 2166751896, 8944331737, 6269781163, 2533156075, 1750957107, 2166751896, 3228391782, 6932793328, 8357356911, 8192361254, 3070798166, 6269781163, 8598505669, 7322977947, 5980810360, 6269781163, 497338523, 8192361254, 3126911351, 3741271076, 6269781163, 1750957107, 6932793328, 3126911351, 3741271076, 8357356911, 6269781163, 6932793328, 1076009535, 6269781163, 5335417329, 2166751896, 1750957107, 2166751896, 3228391782, 8192361254, 8357356911, 2166751896, 6269781163, 3754451804, 2166751896, 3228391782, 6269781163, 7742488005, 8079530362, 6269781163, 2723359809, 3741271076, 8192361254, 3228391782, 8411190585, 6269781163, 4557236930, 5845088173]\n",
    "\n",
    "decrypted_message = Decode(n, d, Cipher)\n",
    "print(\"The decrypted response is:\", decrypted_message)"
   ]
  },
  {
   "cell_type": "markdown",
   "metadata": {
    "tags": []
   },
   "source": [
    "## **9. Custom Code Feature**\n",
    "\n",
    "Below I've implemented a fully functioning Python Program for RSA. Using a main function, I call the 'RSA_program' function which contains the entire program. This allowed me to keep all of the functions independent of the functions used above as required. Additionally, I've implemented a function that can read a text file containing multiple code breaking examples from students on Piazza and can break the codes and read off all of the messages in one function call. Lastly, I've added validation checks for all user inputs, making heavy use of the try, except structure. This program contains a menu that will accept user input and will remain active until the user decides to quit the program. See below for the application!  I've included an example run of each option the user can pick from to showcase each option. Note that I've included a copy of the output in the subsequent cell in case the application gets ran again."
   ]
  },
  {
   "cell_type": "code",
   "execution_count": null,
   "metadata": {},
   "outputs": [
    {
     "name": "stdout",
     "output_type": "stream",
     "text": [
      "\n",
      "Welcome to my RSA Encryption / Decryption Program!\n",
      "\n",
      "\n",
      "***************** RSA Project *****************\n",
      "************* By Justin Lassiter **************\n",
      "*********** CSPB 2824 Summer 2024 *************\n",
      "\n",
      "Select From the Following Options:\n",
      "\n",
      "(K) Key Generation\n",
      "(E) Encrypt\n",
      "(D) Decrypt\n",
      "(B) Break Code\n",
      "(R) Decipher Messages From a Text File\n",
      "(Q) Quit Program\n",
      "\n"
     ]
    },
    {
     "name": "stdout",
     "output_type": "stream",
     "text": [
      "Please Select an Option:  K\n"
     ]
    },
    {
     "name": "stdout",
     "output_type": "stream",
     "text": [
      "\n",
      "You have selected 'Key Generation'\n",
      "\n"
     ]
    },
    {
     "name": "stdout",
     "output_type": "stream",
     "text": [
      "Please enter a prime number:  997\n",
      "\n",
      "Please enter a second prime number:  109\n"
     ]
    },
    {
     "name": "stdout",
     "output_type": "stream",
     "text": [
      "\n",
      "Your Public Key ('e') is: 31\n",
      "\n",
      "Your Public Key ('n') is: 108673\n",
      "\n",
      "Your Private Key ('d') is: 55519 \n",
      "\n",
      "\n",
      "***************** RSA Project *****************\n",
      "************* By Justin Lassiter **************\n",
      "*********** CSPB 2824 Summer 2024 *************\n",
      "\n",
      "Select From the Following Options:\n",
      "\n",
      "(K) Key Generation\n",
      "(E) Encrypt\n",
      "(D) Decrypt\n",
      "(B) Break Code\n",
      "(R) Decipher Messages From a Text File\n",
      "(Q) Quit Program\n",
      "\n"
     ]
    },
    {
     "name": "stdout",
     "output_type": "stream",
     "text": [
      "Please Select an Option:  E\n"
     ]
    },
    {
     "name": "stdout",
     "output_type": "stream",
     "text": [
      "\n",
      "You have selected 'Encrypt'\n",
      "\n"
     ]
    },
    {
     "name": "stdout",
     "output_type": "stream",
     "text": [
      "Please enter the message you would like to encode:  My name is Justin Lassiter and I am learning a lot in Discrete Math this semester!\n",
      "\n",
      "Please enter the public key ('e'):  31\n",
      "\n",
      "Please enter the public key ('n'):  108673\n"
     ]
    },
    {
     "name": "stdout",
     "output_type": "stream",
     "text": [
      "\n",
      "Your encrypted messaged is: [108151, 301, 4228, 88836, 67497, 31719, 62029, 4228, 83968, 15409, 4228, 45540, 102779, 15409, 89274, 83968, 88836, 4228, 78840, 67497, 15409, 15409, 83968, 89274, 62029, 20027, 4228, 67497, 88836, 95681, 4228, 19219, 4228, 67497, 31719, 4228, 85782, 62029, 67497, 20027, 88836, 83968, 88836, 97188, 4228, 67497, 4228, 85782, 49033, 89274, 4228, 83968, 88836, 4228, 108278, 83968, 15409, 82456, 20027, 62029, 89274, 62029, 4228, 108151, 67497, 89274, 41885, 4228, 89274, 41885, 83968, 15409, 4228, 15409, 62029, 31719, 62029, 15409, 89274, 62029, 20027, 30705] \n",
      "\n",
      "\n",
      "***************** RSA Project *****************\n",
      "************* By Justin Lassiter **************\n",
      "*********** CSPB 2824 Summer 2024 *************\n",
      "\n",
      "Select From the Following Options:\n",
      "\n",
      "(K) Key Generation\n",
      "(E) Encrypt\n",
      "(D) Decrypt\n",
      "(B) Break Code\n",
      "(R) Decipher Messages From a Text File\n",
      "(Q) Quit Program\n",
      "\n"
     ]
    },
    {
     "name": "stdout",
     "output_type": "stream",
     "text": [
      "Please Select an Option:  D\n"
     ]
    },
    {
     "name": "stdout",
     "output_type": "stream",
     "text": [
      "\n",
      "You have selected 'Decrypt'\n",
      "\n"
     ]
    },
    {
     "name": "stdout",
     "output_type": "stream",
     "text": [
      "Please enter the message you would like to decode:  [108151, 301, 4228, 88836, 67497, 31719, 62029, 4228, 83968, 15409, 4228, 45540, 102779, 15409, 89274, 83968, 88836, 4228, 78840, 67497, 15409, 15409, 83968, 89274, 62029, 20027, 4228, 67497, 88836, 95681, 4228, 19219, 4228, 67497, 31719, 4228, 85782, 62029, 67497, 20027, 88836, 83968, 88836, 97188, 4228, 67497, 4228, 85782, 49033, 89274, 4228, 83968, 88836, 4228, 108278, 83968, 15409, 82456, 20027, 62029, 89274, 62029, 4228, 108151, 67497, 89274, 41885, 4228, 89274, 41885, 83968, 15409, 4228, 15409, 62029, 31719, 62029, 15409, 89274, 62029, 20027, 30705]\n",
      "\n",
      "Please enter your private key ('d'):  55519\n",
      "\n",
      "Please enter the public key ('n'):  108673\n"
     ]
    },
    {
     "name": "stdout",
     "output_type": "stream",
     "text": [
      "\n",
      "Your decrypted messaged is: My name is Justin Lassiter and I am learning a lot in Discrete Math this semester! \n",
      "\n",
      "\n",
      "***************** RSA Project *****************\n",
      "************* By Justin Lassiter **************\n",
      "*********** CSPB 2824 Summer 2024 *************\n",
      "\n",
      "Select From the Following Options:\n",
      "\n",
      "(K) Key Generation\n",
      "(E) Encrypt\n",
      "(D) Decrypt\n",
      "(B) Break Code\n",
      "(R) Decipher Messages From a Text File\n",
      "(Q) Quit Program\n",
      "\n"
     ]
    },
    {
     "name": "stdout",
     "output_type": "stream",
     "text": [
      "Please Select an Option:  B\n"
     ]
    },
    {
     "name": "stdout",
     "output_type": "stream",
     "text": [
      "\n",
      "You have selected 'Break Code'\n",
      "\n"
     ]
    },
    {
     "name": "stdout",
     "output_type": "stream",
     "text": [
      "Please enter the message you would like to decode:  [17053, 178115, 141484, 59319, 74001, 32768, 74001, 292028, 114718, 33980, 74001, 32768, 138164, 156137, 138164, 292028, 284666, 74001, 232727, 265488, 141484, 200590, 32768, 284666, 178115, 114718, 32768, 169071, 265488, 141484, 107863, 32768, 178115, 141484, 32768, 74001, 232727, 138164, 32768, 265488, 141484, 74001, 138164, 292028, 141484, 138164, 74001, 97336, 32768, 91125, 274625, 49055, 292028, 20536, 232727, 20536, 105513, 32768, 141597, 265488, 141484, 78162, 178115, 70196, 141484, 85184, 32768, 117649, 185193, 166375, 157464]\n",
      "\n",
      "Please enter the Public Key 'e' of the code you are trying to break:  3\n",
      "\n",
      "Please enter the Public Key 'n' of the code you are trying to break:  297379\n"
     ]
    },
    {
     "name": "stdout",
     "output_type": "stream",
     "text": [
      "\n",
      "Prime Factor 1 used for 'n' is: 347\n",
      "\n",
      "Prime Factor 2 used for 'n' is: 857\n",
      "\n",
      "The private key 'd' is: 197451\n",
      "\n",
      "The decrypted message is: Don't trust everything you find on the internet. -Abraham Lincoln, 1976 \n",
      "\n",
      "\n",
      "***************** RSA Project *****************\n",
      "************* By Justin Lassiter **************\n",
      "*********** CSPB 2824 Summer 2024 *************\n",
      "\n",
      "Select From the Following Options:\n",
      "\n",
      "(K) Key Generation\n",
      "(E) Encrypt\n",
      "(D) Decrypt\n",
      "(B) Break Code\n",
      "(R) Decipher Messages From a Text File\n",
      "(Q) Quit Program\n",
      "\n"
     ]
    },
    {
     "name": "stdout",
     "output_type": "stream",
     "text": [
      "Please Select an Option:  R\n"
     ]
    },
    {
     "name": "stdout",
     "output_type": "stream",
     "text": [
      "\n",
      "You have selected 'Decipher Messages From a Text File'\n",
      "\n",
      "The message from Peter Scott contains the following:\n",
      "\n",
      "Prime Factor 1 used for 'n' is: 1979\n",
      "\n",
      "Prime Factor 2 used for 'n' is: 3253\n",
      "\n",
      "The private key 'd' is: 5145965\n",
      "\n",
      "The decrypted message is: Giraffes are 30 times more likely to get hit by lightning than people.\n",
      "\n",
      "The message from Patricia Varela contains the following:\n",
      "\n",
      "Prime Factor 1 used for 'n' is: 11\n",
      "\n",
      "Prime Factor 2 used for 'n' is: 61\n",
      "\n",
      "The private key 'd' is: 383\n",
      "\n",
      "The decrypted message is: How's everyone enjoying Discrete Structures? This class has been so challenging and rewarding for me!\n",
      "\n",
      "The message from AB contains the following:\n",
      "\n",
      "Prime Factor 1 used for 'n' is: 19\n",
      "\n",
      "Prime Factor 2 used for 'n' is: 37\n",
      "\n",
      "The private key 'd' is: 281\n",
      "\n",
      "The decrypted message is: You did the impossible and encrypted my message! Now, I have one question which is what is your favorite Season and why? Mine is Summer because of the great camping weather!\n",
      "\n",
      "The message from Hiatt Campbell contains the following:\n",
      "\n",
      "Prime Factor 1 used for 'n' is: 43\n",
      "\n",
      "Prime Factor 2 used for 'n' is: 71\n",
      "\n",
      "The private key 'd' is: 1357\n",
      "\n",
      "The decrypted message is: Now that you have broken my code, I want to know: what is the weirdest food you grew up eating or still eat? Mine was peanut butter and pickle sandwiches.\n",
      "\n",
      "The message from Kalen Wiley contains the following:\n",
      "\n",
      "Prime Factor 1 used for 'n' is: 71\n",
      "\n",
      "Prime Factor 2 used for 'n' is: 181\n",
      "\n",
      "The private key 'd' is: 2977\n",
      "\n",
      "The decrypted message is: What was your favorite cartoon growing up? I was (and maybe still am) a SpongeBob fan.\n",
      "\n",
      "The message from Timothy Smith contains the following:\n",
      "\n",
      "Prime Factor 1 used for 'n' is: 29\n",
      "\n",
      "Prime Factor 2 used for 'n' is: 211\n",
      "\n",
      "The private key 'd' is: 4909\n",
      "\n",
      "The decrypted message is: What has been your favorite subject of Discrete Structures so far?\n",
      "\n",
      "***************** RSA Project *****************\n",
      "************* By Justin Lassiter **************\n",
      "*********** CSPB 2824 Summer 2024 *************\n",
      "\n",
      "Select From the Following Options:\n",
      "\n",
      "(K) Key Generation\n",
      "(E) Encrypt\n",
      "(D) Decrypt\n",
      "(B) Break Code\n",
      "(R) Decipher Messages From a Text File\n",
      "(Q) Quit Program\n",
      "\n"
     ]
    },
    {
     "name": "stdout",
     "output_type": "stream",
     "text": [
      "Please Select an Option:  Q\n"
     ]
    },
    {
     "name": "stdout",
     "output_type": "stream",
     "text": [
      "\n",
      "Thank you for using my program!\n"
     ]
    }
   ],
   "source": [
    "import random\n",
    "\n",
    "def RSA_program():    \n",
    "    def FME(b, n, m):\n",
    "        \"\"\"\n",
    "        This function performs Sriram's FME Algorithm \n",
    "        provided to the class in the course lecture\n",
    "        videos\n",
    "\n",
    "        Parameter b: This parameter is the integer value to be used as the base\n",
    "        Parameter n: This parameter is the integer value to be used as the exponent\n",
    "        Parameter m: This parameter is the integer value to be used as the modulo value\n",
    "\n",
    "        \"\"\"\n",
    "        result = 1     #This variable holds the accumulated product of modulo values - changes only if we have binary of 1 in the while loop\n",
    "        square = b     #This variable holds the current squared value with modulo applied - used to find next 'return' value\n",
    "        n = n          # Holds the current value of n - floor division of 2 applied at the end of each cycle to reduce\n",
    "        while (n > 0): # While loop will continue until n // 2 results in 0\n",
    "            k = n % 2  # determine if current value of _int mod 2 is 0 or 1 in the binary exapnsion\n",
    "            if k == 1: # Algorithm requires the squaring and modding of values to be applied if binary value is 1 in the expansion\n",
    "                result = (result * square) % m  # Square and fronm previous cycle and finds the remainder\n",
    "            square = (square * square) % m # move on to the next squared value, regardless if previously applied (prepare for next iteration)\n",
    "            n = n // 2 # reduce n for next iteration for purposes of binary expansion\n",
    "\n",
    "        return result # ending value in result contains the remainder of the overall expression\n",
    "\n",
    "\n",
    "\n",
    "    def Euclidean_Alg(a, b):\n",
    "        \"\"\"\n",
    "        1. Calculate the Greatest Common Divisor of a and b.\n",
    "\n",
    "        2. This version should have only positive inputs and outputs.\n",
    "\n",
    "        3. The function must return a single integer ('x') which is\n",
    "        the gcd of a and b.\n",
    "\n",
    "        \"\"\"\n",
    "\n",
    "        \"\"\"\n",
    "        This function performs the Euclidean Algorithm and returns the greatest\n",
    "        common divisor (gcd) of two numbers.\n",
    "\n",
    "        Parameter a: This parameter is an integer value\n",
    "        Parameter b: This parameter is an integer value\n",
    "\n",
    "        \"\"\"\n",
    "        # For the Euclid's Algorithm, the larger value needs to be first (in the 'a' position)\n",
    "        # swap values of a and b if b is larger\n",
    "        if b > a:\n",
    "            temp = a\n",
    "            a = b\n",
    "            b = temp\n",
    "\n",
    "        # continuosly take the mod b of a\n",
    "        # b becomes 'new' and the remainder becomes new 'b'\n",
    "        # continues until b is 0 and the remaining a is the Greatest Common Divisor (gcd)\n",
    "        while b > 0:\n",
    "            k = a % b\n",
    "            a = b\n",
    "            b = k\n",
    "\n",
    "        return a #return the gcd\n",
    "\n",
    "\n",
    "\n",
    "    def EEA(a, b):\n",
    "        \"\"\"\n",
    "        This function performs Sriram's Extended Euclidean Algorithm \n",
    "        provided to the class in the course lecture videos\n",
    "\n",
    "        Parameter a: This parameter is an integer value. Value must be greater than or equal to b.\n",
    "        Parameter b: This parameter is an integer value. Value must be less than or equal to a and\n",
    "                     must be greater than or equal to 0.\n",
    "        \"\"\"\n",
    "\n",
    "        s1, t1 = 1, 0    # Bezout Coefficients for variable m - Set initial coefficient to 1 and 0 to represent the input\n",
    "        s2, t2 = 0, 1    # Bezout Coefficients for variable n - Set initial coefficient to 0 and 1 to represent the input\n",
    "        while( b > 0) :  #Loop continues until there is no longer a remainder performing Euclid's Algorithm (b of 0 indicates we've reached the gcd)\n",
    "            k = a % b    \n",
    "            q = a // b   # Determine quotient for use in calculation of the Bezout Coeff. for the new n.\n",
    "            a = b        # Assign the smaller of the two integers in previous step to m for next step in Euclid's Alg.\n",
    "            b = k        # Assign the remainder to the smaller of the two integers for the next step in Euclid's Alg.\n",
    "            s1_hat, t1_hat = s2, t2   # assign Bezout coefficients of n into m (temporarily) avoids overwriting\n",
    "            s2_hat, t2_hat = s1 - q * s2, t1 - q * t2  #Calculate the bezout coefficients for the new n / the remainder k\n",
    "            s1, t1 = s1_hat, t1_hat  # reassigning bezout coeff. from temporary / loop variables for use in next cycle\n",
    "            s2, t2 = s2_hat, t2_hat  # reassigning bezout coeff. from temporary / loop variables for use in next cycle\n",
    "\n",
    "\n",
    "        return a, (s1, t1) #returns the gcd and a tuple for the necessary bezout coefficients to have the linear combination for the gcd  \n",
    "\n",
    "\n",
    "\n",
    "    def Find_Private_Key_d(e, p, q):\n",
    "        \"\"\"\n",
    "        This function finds the modular inverse of the public key \n",
    "        'e' mod (p-1) * (q-1) or the private key 'd'\n",
    "\n",
    "        Parameter p: This parameter is a prime number used in the calculation of the product (p-1) * (q-1)\n",
    "        Parameter q: This parameter is a prime number used in the calculation of the product (p-1) * (q-1)\n",
    "        \"\"\"\n",
    "\n",
    "        # calculate modulo value to be used to determine modular inverse of e in EEA\n",
    "        m = (p - 1) * (q - 1) \n",
    "\n",
    "\n",
    "        # Determine which of the values e and m are larger\n",
    "        # as the Extended Eucl. Alg requires the larger of the two to be the first argument passed\n",
    "        if e > m:\n",
    "            gcd, bezout_coefficients = EEA(e, m)\n",
    "            d = bezout_coefficients[0] #extract the coeffiecient that represents the modular inverse\n",
    "\n",
    "        # Based on the EA function used to determine e,\n",
    "        # e cannot be the same - no additional check needed\n",
    "        else:\n",
    "            gcd, bezout_coefficients = EEA(m, e)\n",
    "            d = bezout_coefficients[1] #extract the coeffiecient that represents the modular inverse\n",
    "\n",
    "        while d < 0:\n",
    "            d += m   #Add the Modulo value used in finding modular inverse until we get a positive value\n",
    "\n",
    "        return d\n",
    "\n",
    "\n",
    "    def Convert_Text(_string):\n",
    "        \"\"\"\n",
    "        This function converts a string passed as an argument \n",
    "        to a list of it's associated ASCII decimal values.\n",
    "\n",
    "        Parameter _string: This parameter is string of text.\n",
    "        \"\"\"\n",
    "        integer_list = [] # List to hold the ASCII code values of each character passed\n",
    "        for character in _string:\n",
    "            integer_list.append(ord(character)) #convert the passed character to the ASCII decimal value\n",
    "        \n",
    "        return integer_list\n",
    "\n",
    "\n",
    "    def Convert_Num(_list):\n",
    "        \"\"\"\n",
    "        This function converts a list of ASCII decimal values passed as an argument \n",
    "        to a concatenated string of it's associated ASCII character values.\n",
    "\n",
    "        Parameter _list This parameter is a list containing ASCII decimal values.\n",
    "        \"\"\"\n",
    "        _string = '' # 'accumulate' the converted characters which will ultimately be returned as the original text\n",
    "        for i in _list:\n",
    "            _string += chr(i) #convert the passed ASCII decimal value to it's related character value and concatenate to string\n",
    "\n",
    "        return _string\n",
    "\n",
    "\n",
    "    def Encode(n, e, message):\n",
    "        \"\"\"\n",
    "        This function converts an string message passed to an encrypted\n",
    "        value using Fast Modular Exponentiation.\n",
    "\n",
    "        Parameter n: This parameter is the modular value used as the message key.\n",
    "        Parameter e: This parameter is the public key.\n",
    "        Parameter message: This parameter is the string / text to be encrypted.\n",
    "        \"\"\"\n",
    "        \n",
    "        converted_message = Convert_Text(message) # convert the passed message argument to its ASCII decimal values\n",
    "\n",
    "        cipher_text = []\n",
    "\n",
    "        for code in converted_message:\n",
    "            FME_result = FME(code, e, n) # encrypt each ASCII value via Fast Modular Exponentiation using public key 'e' and modulo value 'n'\n",
    "            cipher_text.append(FME_result)\n",
    "\n",
    "        return cipher_text\n",
    "\n",
    "\n",
    "    def Decode(n, d, cipher_text):\n",
    "        \"\"\"\n",
    "        This function converts an encoded message passed to a decrypted value\n",
    "        using Fast Modular Exponentiation.\n",
    "\n",
    "        Parameter n: This parameter is the modular value used as the message key.\n",
    "        Parameter d: This parameter is the private key.\n",
    "        Parameter cipher_text: this is the list of encrypted values to be decrypted.\n",
    "        \"\"\"\n",
    "\n",
    "        decipher_list = []\n",
    "\n",
    "        for code in cipher_text:\n",
    "            FME_result = FME(code, d, n) # 'reverse' each encrypted value to it's related ASCII decimal code using private key 'd' and modulo 'n'\n",
    "            decipher_list.append(FME_result)\n",
    "\n",
    "        message = Convert_Num(decipher_list) # convert each ASCII decimal value to it's related character and get the original message\n",
    "\n",
    "        return message\n",
    "\n",
    "    \n",
    "    def factorize(n):\n",
    "        \"\"\"\n",
    "        This function runs through all numbers between 2 and (n-1) and looks\n",
    "        for the first number that divides n.\n",
    "\n",
    "        Parameter n: This parameter is the modular value used as the message key.\n",
    "        \"\"\"\n",
    "            \n",
    "        for num in range(2, n): #Loop through all integers between 2 and (n -1)\n",
    "            if n % num == 0:    \n",
    "                return num      # If a number is divisible by num, a factor has been identified\n",
    "            \n",
    "        return False\n",
    "    \n",
    "    \n",
    "    def convert_string_list(user_message):\n",
    "        \"\"\"\n",
    "        This function takes in a string value containing the list of values in the format\n",
    "        [1, 2, 3, 4] and converts it to a python list object. \n",
    "\n",
    "        Parameter user_message: a list of of numeric values entered by user as a string.\n",
    "        \"\"\"\n",
    "        # create list splitting it on ',' - clear divide between each number in string\n",
    "        converted_message = user_message.split(\",\") \n",
    "        int_list = []\n",
    "        for num in converted_message:\n",
    "            num = num.strip() #remove extra whitespace/newline chacters\n",
    "            # treat numbers with '[' and ']' different to extract just the number\n",
    "            #otherwise convert the numnber to an integer and append to the list\n",
    "            if '[' in num:\n",
    "                int_list.append(int(num[1:]))\n",
    "            elif ']' in num:\n",
    "                int_list.append(int(num[:-1]))\n",
    "            else:\n",
    "                int_list.append(int(num))\n",
    "                \n",
    "        return int_list\n",
    "                          \n",
    " \n",
    "    def code_break_time(message, code_break_e, code_break_n):\n",
    "            \"\"\"\n",
    "            This function uses the known value of 'e' and 'n' to brute force\n",
    "            find the related value of 'd' or the private key and decrypt the \n",
    "            message passed to the function.\n",
    "\n",
    "            Parameter message: The message to decrypt\n",
    "            Parameter code_break_e: The public key\n",
    "            Parameter code_break_n: The modulo value key value\n",
    "            \"\"\"\n",
    "            \n",
    "            prime_1 = factorize(code_break_n) # find the first prime number\n",
    "            print(\"\\nPrime Factor 1 used for 'n' is:\", prime_1)\n",
    "            prime_2 = code_break_n // prime_1 # find the second prime number\n",
    "            print(\"\\nPrime Factor 2 used for 'n' is:\", prime_2)\n",
    "            \n",
    "            code_break_d = Find_Private_Key_d(code_break_e, prime_1, prime_2) # 'find the private key / modular inverse of e\n",
    "            print(\"\\nThe private key 'd' is:\", code_break_d)\n",
    "            \n",
    "            deciphered_message = Decode(code_break_n, code_break_d, message) # read the message\n",
    "            print(\"\\nThe decrypted message is:\", deciphered_message)  \n",
    "\n",
    "\n",
    "    def decrypt_file():\n",
    "        \"\"\"\n",
    "        This function opens a text file, reads the contents of \n",
    "        various code break messages from piazza, breaks each code\n",
    "        and displays the results\n",
    "        \"\"\"\n",
    "        \n",
    "        with open('2824 Piazza Messages.txt', 'r') as ciphers:\n",
    "            text_line = ciphers.readlines() # break out contents of text file with each line as a list\n",
    "            n, e = 0, 0  \n",
    "            cipher = []\n",
    "            name = \"\"\n",
    "            for line in text_line:\n",
    "                if 'n, e' in line:\n",
    "                    second_comma_pos = line.rindex(',') # find position of the right most ',' determine where n and e are located in string\n",
    "                    n = int(line[line.index('=') + 2:second_comma_pos])  # n value begins 2 postions to the right of '=' and end before 2nd comma\n",
    "                    e = int(line[second_comma_pos+2:])    # e value begins exactly two positions to the right of the right most comma, top the end of the \n",
    "                elif 'Cipher' in line: # identifies where the message line begins\n",
    "                    message = line[9:]\n",
    "                    cipher = convert_string_list(message)\n",
    "                elif \"Message\" in line: # identifies where the name line begins\n",
    "                    name = line[13:].strip() #postion of where name begins is consistent\n",
    "                elif name != \"\":\n",
    "                    print(\"\\nThe message from \" + name + \" contains the following:\")\n",
    "                    code_break_time(cipher, e, n)\n",
    "                    name = \"\" # reset name to empty string to reset the cycle\n",
    "    \n",
    "    #Begin Menu Loop\n",
    "    \n",
    "    exit_variable = '' #set initial loop control variable to empty string, triggering while loop\n",
    "    \n",
    "    \n",
    "    print(\"\\nWelcome to my RSA Encryption / Decryption Program!\\n\")    \n",
    "   \n",
    "    while exit_variable != 'q':\n",
    "        print(\"\\n***************** RSA Project *****************\")\n",
    "        print(\"************* By Justin Lassiter **************\")\n",
    "        print(\"*********** CSPB 2824 Summer 2024 *************\\n\")\n",
    "        print(\"Select From the Following Options:\\n\")\n",
    "        print(\"(K) Key Generation\\n\"\n",
    "              \"(E) Encrypt\\n\"\n",
    "              \"(D) Decrypt\\n\"\n",
    "              \"(B) Break Code\\n\"\n",
    "              \"(R) Decipher Messages From a Text File\\n\"\n",
    "              \"(Q) Quit Program\\n\")\n",
    "        \n",
    "        \n",
    "        user_selection = input(\"Please Select an Option: \")\n",
    "        if user_selection.lower() == 'q':    \n",
    "            exit_variable = 'q'\n",
    "            continue\n",
    "        \n",
    "        elif user_selection.lower() == 'k':\n",
    "            print(\"\\nYou have selected 'Key Generation'\\n\")\n",
    "            while True: \n",
    "                try:  # implement try / except to ensure user enteres an integer value\n",
    "                    prime_1 = int(input(\"Please enter a prime number: \")) \n",
    "                    prime_2 = int(input(\"\\nPlease enter a second prime number: \"))\n",
    "                    e, n = Find_Public_Key_e(prime_1, prime_2)  # generate a public key\n",
    "                    d = Find_Private_Key_d(e, prime_1, prime_2) # generate a private key\n",
    "                    print(\"\\nYour Public Key ('e') is:\", e)\n",
    "                    print(\"\\nYour Public Key ('n') is:\", n)\n",
    "                    print(\"\\nYour Private Key ('d') is:\", d, '\\n')\n",
    "                    break\n",
    "                except: # if user enters an invalid value causing an exception, loop will continuously prompt until satisfied.\n",
    "                    print(\"\\nYou've entered an invalid value - please enter an integer value.\")\n",
    "                    \n",
    "        elif user_selection.lower() == 'e':\n",
    "            print(\"\\nYou have selected 'Encrypt'\\n\")\n",
    "            user_message = input(\"Please enter the message you would like to encode: \")\n",
    "            while True:\n",
    "                try: # implement try / except to ensure user enters an integer value\n",
    "                    user_public_key_e = int(input(\"\\nPlease enter the public key ('e'): \"))\n",
    "                    user_public_key_n = int(input(\"\\nPlease enter the public key ('n'): \"))\n",
    "                    encoded_message = Encode(user_public_key_n, user_public_key_e, user_message) # generate ciphered message\n",
    "                    print(\"\\nYour encrypted messaged is:\", encoded_message, \"\\n\")\n",
    "                    break\n",
    "                except: # if user enters an invalid value causing an exception, loop will continuously prompt until satisfied.\n",
    "                    print(\"\\nYou've entered an invalid value - please enter an integer value.\")\n",
    "        \n",
    "        elif user_selection.lower() == 'd':\n",
    "            print(\"\\nYou have selected 'Decrypt'\\n\")\n",
    "            \n",
    "            while True:\n",
    "                try: # implement try / except to ensure user enters an integer value\n",
    "                    user_message = input(\"Please enter the message you would like to decode: \")\n",
    "                    converted_message_list = convert_string_list(user_message) #convert the string numeric message to a list of integers\n",
    "                    break\n",
    "                except: # if user enters an invalid value causing an exception, loop will continuously prompt until satisfied.\n",
    "                    print(\"\\nPlease enter a valid input. Input must be in the following list form: '[1, 2, 3, 4]' containing only integer values.\\n\")\n",
    "                    \n",
    "            while True:\n",
    "                try: # implement try / except to ensure user enters an integer value\n",
    "                    user_private_key_d = int(input(\"\\nPlease enter your private key ('d'): \"))\n",
    "                    user_public_key_n = int(input(\"\\nPlease enter the public key ('n'): \"))\n",
    "                    decoded_message = Decode(user_public_key_n, user_private_key_d, converted_message_list) # generate decrypted message\n",
    "                    print(\"\\nYour decrypted messaged is:\", decoded_message, '\\n')\n",
    "                    break\n",
    "                except: # if user enters an invalid value causing an exception, loop will continuously prompt until satisfied.\n",
    "                    print(\"\\nYou've entered an invalid value - please enter an integer value.\")\n",
    "            \n",
    "        elif user_selection.lower() == 'b':\n",
    "            print(\"\\nYou have selected 'Break Code'\\n\")\n",
    "            \n",
    "            while True:\n",
    "                    try: # implement try / except to ensure user enters an integer value\n",
    "                        cipher = input(\"Please enter the message you would like to decode: \")\n",
    "                        converted_cipher_list = convert_string_list(cipher) #convert the string numeric message to a list of integers\n",
    "                        break\n",
    "                    except: # if user enters an invalid value causing an exception, loop will continuously prompt until satisfied.\n",
    "                        print(\"\\nPlease enter a valid input. Input must be in the following list form: '[1, 2, 3, 4]' containing only integer values.\\n\")\n",
    "            while True:\n",
    "                try: # implement try / except to ensure user enters an integer value\n",
    "                    code_break_e = int(input(\"\\nPlease enter the Public Key 'e' of the code you are trying to break: \"))\n",
    "                    code_break_n = int(input(\"\\nPlease enter the Public Key 'n' of the code you are trying to break: \"))\n",
    "\n",
    "                    prime_1 = factorize(code_break_n)\n",
    "                    print(\"\\nPrime Factor 1 used for 'n' is:\", prime_1)\n",
    "                    prime_2 = code_break_n // prime_1\n",
    "                    print(\"\\nPrime Factor 2 used for 'n' is:\", prime_2)\n",
    "\n",
    "                    code_break_d = Find_Private_Key_d(code_break_e, prime_1, prime_2)\n",
    "                    print(\"\\nThe private key 'd' is:\", code_break_d)\n",
    "\n",
    "                    deciphered_message = Decode(code_break_n, code_break_d, converted_cipher_list)\n",
    "                    print(\"\\nThe decrypted message is:\", deciphered_message, '\\n')\n",
    "                    break\n",
    "                except: # if user enters an invalid value causing an exception, loop will continuously prompt until satisfied.\n",
    "                    print(\"\\nYou've entered an invalid value - please enter an integer value.\")\n",
    "            \n",
    "        elif user_selection.lower() == 'r':\n",
    "            print(\"\\nYou have selected 'Decipher Messages From a Text File'\")\n",
    "            decrypt_file()\n",
    "        \n",
    "        else: # If user did not select one of the menu items, loop will continuously prompt until satisfied.\n",
    "            print(\"\\nThe input entered is not recognized!\\n\\n\"\n",
    "                  \"Please select a valid input from the menu!\\n\")\n",
    "              \n",
    "        \n",
    "    print(\"\\nThank you for using my program!\")       \n",
    "                \n",
    "\n",
    "def main():\n",
    "    #Best Practices is to have 'main' call task accomplishing functions\n",
    "    RSA_program()\n",
    "        \n",
    "if __name__ == \"__main__\":\n",
    "    main()"
   ]
  },
  {
   "cell_type": "raw",
   "metadata": {
    "jupyter": {
     "source_hidden": true
    },
    "tags": []
   },
   "source": [
    "Welcome to my RSA Encryption / Decryption Program!\n",
    "\n",
    "\n",
    "***************** RSA Project *****************\n",
    "************* By Justin Lassiter **************\n",
    "*********** CSPB 2824 Summer 2024 *************\n",
    "\n",
    "Select From the Following Options:\n",
    "\n",
    "(K) Key Generation\n",
    "(E) Encrypt\n",
    "(D) Decrypt\n",
    "(B) Break Code\n",
    "(R) Decipher Messages From a Text File\n",
    "(Q) Quit Program\n",
    "\n",
    "Please Select an Option:  K\n",
    "\n",
    "You have selected 'Key Generation'\n",
    "\n",
    "Please enter a prime number:  997\n",
    "\n",
    "Please enter a second prime number:  109\n",
    "\n",
    "Your Public Key ('e') is: 31\n",
    "\n",
    "Your Public Key ('n') is: 108673\n",
    "\n",
    "Your Private Key ('d') is: 55519 \n",
    "\n",
    "\n",
    "***************** RSA Project *****************\n",
    "************* By Justin Lassiter **************\n",
    "*********** CSPB 2824 Summer 2024 *************\n",
    "\n",
    "Select From the Following Options:\n",
    "\n",
    "(K) Key Generation\n",
    "(E) Encrypt\n",
    "(D) Decrypt\n",
    "(B) Break Code\n",
    "(R) Decipher Messages From a Text File\n",
    "(Q) Quit Program\n",
    "\n",
    "Please Select an Option:  E\n",
    "\n",
    "You have selected 'Encrypt'\n",
    "\n",
    "Please enter the message you would like to encode:  My name is Justin Lassiter and I am learning a lot in Discrete Math this semester!\n",
    "\n",
    "Please enter the public key ('e'):  31\n",
    "\n",
    "Please enter the public key ('n'):  108673\n",
    "\n",
    "Your encrypted messaged is: [108151, 301, 4228, 88836, 67497, 31719, 62029, 4228, 83968, 15409, 4228, 45540, 102779, 15409, 89274, 83968, 88836, 4228, 78840, 67497, 15409, 15409, 83968, 89274, 62029, 20027, 4228, 67497, 88836, 95681, 4228, 19219, 4228, 67497, 31719, 4228, 85782, 62029, 67497, 20027, 88836, 83968, 88836, 97188, 4228, 67497, 4228, 85782, 49033, 89274, 4228, 83968, 88836, 4228, 108278, 83968, 15409, 82456, 20027, 62029, 89274, 62029, 4228, 108151, 67497, 89274, 41885, 4228, 89274, 41885, 83968, 15409, 4228, 15409, 62029, 31719, 62029, 15409, 89274, 62029, 20027, 30705] \n",
    "\n",
    "\n",
    "***************** RSA Project *****************\n",
    "************* By Justin Lassiter **************\n",
    "*********** CSPB 2824 Summer 2024 *************\n",
    "\n",
    "Select From the Following Options:\n",
    "\n",
    "(K) Key Generation\n",
    "(E) Encrypt\n",
    "(D) Decrypt\n",
    "(B) Break Code\n",
    "(R) Decipher Messages From a Text File\n",
    "(Q) Quit Program\n",
    "\n",
    "Please Select an Option:  D\n",
    "\n",
    "You have selected 'Decrypt'\n",
    "\n",
    "Please enter the message you would like to decode:  [108151, 301, 4228, 88836, 67497, 31719, 62029, 4228, 83968, 15409, 4228, 45540, 102779, 15409, 89274, 83968, 88836, 4228, 78840, 67497, 15409, 15409, 83968, 89274, 62029, 20027, 4228, 67497, 88836, 95681, 4228, 19219, 4228, 67497, 31719, 4228, 85782, 62029, 67497, 20027, 88836, 83968, 88836, 97188, 4228, 67497, 4228, 85782, 49033, 89274, 4228, 83968, 88836, 4228, 108278, 83968, 15409, 82456, 20027, 62029, 89274, 62029, 4228, 108151, 67497, 89274, 41885, 4228, 89274, 41885, 83968, 15409, 4228, 15409, 62029, 31719, 62029, 15409, 89274, 62029, 20027, 30705]\n",
    "\n",
    "Please enter your private key ('d'):  55519\n",
    "\n",
    "Please enter the public key ('n'):  108673\n",
    "\n",
    "Your decrypted messaged is: My name is Justin Lassiter and I am learning a lot in Discrete Math this semester! \n",
    "\n",
    "\n",
    "***************** RSA Project *****************\n",
    "************* By Justin Lassiter **************\n",
    "*********** CSPB 2824 Summer 2024 *************\n",
    "\n",
    "Select From the Following Options:\n",
    "\n",
    "(K) Key Generation\n",
    "(E) Encrypt\n",
    "(D) Decrypt\n",
    "(B) Break Code\n",
    "(R) Decipher Messages From a Text File\n",
    "(Q) Quit Program\n",
    "\n",
    "Please Select an Option:  B\n",
    "\n",
    "You have selected 'Break Code'\n",
    "\n",
    "Please enter the message you would like to decode:  [17053, 178115, 141484, 59319, 74001, 32768, 74001, 292028, 114718, 33980, 74001, 32768, 138164, 156137, 138164, 292028, 284666, 74001, 232727, 265488, 141484, 200590, 32768, 284666, 178115, 114718, 32768, 169071, 265488, 141484, 107863, 32768, 178115, 141484, 32768, 74001, 232727, 138164, 32768, 265488, 141484, 74001, 138164, 292028, 141484, 138164, 74001, 97336, 32768, 91125, 274625, 49055, 292028, 20536, 232727, 20536, 105513, 32768, 141597, 265488, 141484, 78162, 178115, 70196, 141484, 85184, 32768, 117649, 185193, 166375, 157464]\n",
    "\n",
    "Please enter the Public Key 'e' of the code you are trying to break:  3\n",
    "\n",
    "Please enter the Public Key 'n' of the code you are trying to break:  297379\n",
    "\n",
    "Prime Factor 1 used for 'n' is: 347\n",
    "\n",
    "Prime Factor 2 used for 'n' is: 857\n",
    "\n",
    "The private key 'd' is: 197451\n",
    "\n",
    "The decrypted message is: Don't trust everything you find on the internet. -Abraham Lincoln, 1976 \n",
    "\n",
    "\n",
    "***************** RSA Project *****************\n",
    "************* By Justin Lassiter **************\n",
    "*********** CSPB 2824 Summer 2024 *************\n",
    "\n",
    "Select From the Following Options:\n",
    "\n",
    "(K) Key Generation\n",
    "(E) Encrypt\n",
    "(D) Decrypt\n",
    "(B) Break Code\n",
    "(R) Decipher Messages From a Text File\n",
    "(Q) Quit Program\n",
    "\n",
    "Please Select an Option:  R\n",
    "\n",
    "You have selected 'Decipher Messages From a Text File'\n",
    "\n",
    "The message from Peter Scott contains the following:\n",
    "\n",
    "Prime Factor 1 used for 'n' is: 1979\n",
    "\n",
    "Prime Factor 2 used for 'n' is: 3253\n",
    "\n",
    "The private key 'd' is: 5145965\n",
    "\n",
    "The decrypted message is: Giraffes are 30 times more likely to get hit by lightning than people.\n",
    "\n",
    "The message from Patricia Varela contains the following:\n",
    "\n",
    "Prime Factor 1 used for 'n' is: 11\n",
    "\n",
    "Prime Factor 2 used for 'n' is: 61\n",
    "\n",
    "The private key 'd' is: 383\n",
    "\n",
    "The decrypted message is: How's everyone enjoying Discrete Structures? This class has been so challenging and rewarding for me!\n",
    "\n",
    "The message from AB contains the following:\n",
    "\n",
    "Prime Factor 1 used for 'n' is: 19\n",
    "\n",
    "Prime Factor 2 used for 'n' is: 37\n",
    "\n",
    "The private key 'd' is: 281\n",
    "\n",
    "The decrypted message is: You did the impossible and encrypted my message! Now, I have one question which is what is your favorite Season and why? Mine is Summer because of the great camping weather!\n",
    "\n",
    "The message from Hiatt Campbell contains the following:\n",
    "\n",
    "Prime Factor 1 used for 'n' is: 43\n",
    "\n",
    "Prime Factor 2 used for 'n' is: 71\n",
    "\n",
    "The private key 'd' is: 1357\n",
    "\n",
    "The decrypted message is: Now that you have broken my code, I want to know: what is the weirdest food you grew up eating or still eat? Mine was peanut butter and pickle sandwiches.\n",
    "\n",
    "The message from Kalen Wiley contains the following:\n",
    "\n",
    "Prime Factor 1 used for 'n' is: 71\n",
    "\n",
    "Prime Factor 2 used for 'n' is: 181\n",
    "\n",
    "The private key 'd' is: 2977\n",
    "\n",
    "The decrypted message is: What was your favorite cartoon growing up? I was (and maybe still am) a SpongeBob fan.\n",
    "\n",
    "The message from Timothy Smith contains the following:\n",
    "\n",
    "Prime Factor 1 used for 'n' is: 29\n",
    "\n",
    "Prime Factor 2 used for 'n' is: 211\n",
    "\n",
    "The private key 'd' is: 4909\n",
    "\n",
    "The decrypted message is: What has been your favorite subject of Discrete Structures so far?\n",
    "\n",
    "***************** RSA Project *****************\n",
    "************* By Justin Lassiter **************\n",
    "*********** CSPB 2824 Summer 2024 *************\n",
    "\n",
    "Select From the Following Options:\n",
    "\n",
    "(K) Key Generation\n",
    "(E) Encrypt\n",
    "(D) Decrypt\n",
    "(B) Break Code\n",
    "(R) Decipher Messages From a Text File\n",
    "(Q) Quit Program\n",
    "\n",
    "Please Select an Option:  Q\n",
    "\n",
    "Thank you for using my program!"
   ]
  }
 ],
 "metadata": {
  "kernelspec": {
   "display_name": "Python 3 (ipykernel)",
   "language": "python",
   "name": "python3"
  },
  "language_info": {
   "codemirror_mode": {
    "name": "ipython",
    "version": 3
   },
   "file_extension": ".py",
   "mimetype": "text/x-python",
   "name": "python",
   "nbconvert_exporter": "python",
   "pygments_lexer": "ipython3",
   "version": "3.10.8"
  }
 },
 "nbformat": 4,
 "nbformat_minor": 4
}
